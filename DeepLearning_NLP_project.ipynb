{
  "cells": [
    {
      "cell_type": "markdown",
      "metadata": {
        "id": "view-in-github",
        "colab_type": "text"
      },
      "source": [
        "<a href=\"https://colab.research.google.com/github/FrancescoMalaspina/NLP_project_DeepLearningClass/blob/main/DeepLearning_NLP_project.ipynb\" target=\"_parent\"><img src=\"https://colab.research.google.com/assets/colab-badge.svg\" alt=\"Open In Colab\"/></a>"
      ]
    },
    {
      "cell_type": "markdown",
      "metadata": {
        "id": "nk2uqffvqBEj"
      },
      "source": [
        "# Kaggle fake news competition\n",
        "The objective of my project is performing a simple NLP task: text classification. In particular it consisted in building a system capable of classifying articles in **fake** or **reliable** news, based on the *text*, the *title*, and the *author*.\n",
        "\n",
        "The dataset I used is part of a 'getting started' kaggle competion, which is described at [this link](https://www.kaggle.com/competitions/fake-news/overview)."
      ]
    },
    {
      "cell_type": "markdown",
      "metadata": {
        "id": "5a_wOv_wrhX8"
      },
      "source": [
        "## kaggle setup\n",
        "Here below I'm setting up the environment with the API token from my kaggle account, in order to be able to download the dataset. Then I'm using kaggle competitions API to download it and unzip it."
      ]
    },
    {
      "cell_type": "code",
      "execution_count": null,
      "metadata": {
        "colab": {
          "base_uri": "https://localhost:8080/",
          "height": 92
        },
        "id": "ZkenollHmCeO",
        "outputId": "2d1fbe3f-cd78-4aac-947b-afad317491c9"
      },
      "outputs": [
        {
          "output_type": "display_data",
          "data": {
            "text/plain": [
              "<IPython.core.display.HTML object>"
            ],
            "text/html": [
              "\n",
              "     <input type=\"file\" id=\"files-bee36f03-c205-4428-bbf4-3c365a3e4ef0\" name=\"files[]\" multiple disabled\n",
              "        style=\"border:none\" />\n",
              "     <output id=\"result-bee36f03-c205-4428-bbf4-3c365a3e4ef0\">\n",
              "      Upload widget is only available when the cell has been executed in the\n",
              "      current browser session. Please rerun this cell to enable.\n",
              "      </output>\n",
              "      <script>// Copyright 2017 Google LLC\n",
              "//\n",
              "// Licensed under the Apache License, Version 2.0 (the \"License\");\n",
              "// you may not use this file except in compliance with the License.\n",
              "// You may obtain a copy of the License at\n",
              "//\n",
              "//      http://www.apache.org/licenses/LICENSE-2.0\n",
              "//\n",
              "// Unless required by applicable law or agreed to in writing, software\n",
              "// distributed under the License is distributed on an \"AS IS\" BASIS,\n",
              "// WITHOUT WARRANTIES OR CONDITIONS OF ANY KIND, either express or implied.\n",
              "// See the License for the specific language governing permissions and\n",
              "// limitations under the License.\n",
              "\n",
              "/**\n",
              " * @fileoverview Helpers for google.colab Python module.\n",
              " */\n",
              "(function(scope) {\n",
              "function span(text, styleAttributes = {}) {\n",
              "  const element = document.createElement('span');\n",
              "  element.textContent = text;\n",
              "  for (const key of Object.keys(styleAttributes)) {\n",
              "    element.style[key] = styleAttributes[key];\n",
              "  }\n",
              "  return element;\n",
              "}\n",
              "\n",
              "// Max number of bytes which will be uploaded at a time.\n",
              "const MAX_PAYLOAD_SIZE = 100 * 1024;\n",
              "\n",
              "function _uploadFiles(inputId, outputId) {\n",
              "  const steps = uploadFilesStep(inputId, outputId);\n",
              "  const outputElement = document.getElementById(outputId);\n",
              "  // Cache steps on the outputElement to make it available for the next call\n",
              "  // to uploadFilesContinue from Python.\n",
              "  outputElement.steps = steps;\n",
              "\n",
              "  return _uploadFilesContinue(outputId);\n",
              "}\n",
              "\n",
              "// This is roughly an async generator (not supported in the browser yet),\n",
              "// where there are multiple asynchronous steps and the Python side is going\n",
              "// to poll for completion of each step.\n",
              "// This uses a Promise to block the python side on completion of each step,\n",
              "// then passes the result of the previous step as the input to the next step.\n",
              "function _uploadFilesContinue(outputId) {\n",
              "  const outputElement = document.getElementById(outputId);\n",
              "  const steps = outputElement.steps;\n",
              "\n",
              "  const next = steps.next(outputElement.lastPromiseValue);\n",
              "  return Promise.resolve(next.value.promise).then((value) => {\n",
              "    // Cache the last promise value to make it available to the next\n",
              "    // step of the generator.\n",
              "    outputElement.lastPromiseValue = value;\n",
              "    return next.value.response;\n",
              "  });\n",
              "}\n",
              "\n",
              "/**\n",
              " * Generator function which is called between each async step of the upload\n",
              " * process.\n",
              " * @param {string} inputId Element ID of the input file picker element.\n",
              " * @param {string} outputId Element ID of the output display.\n",
              " * @return {!Iterable<!Object>} Iterable of next steps.\n",
              " */\n",
              "function* uploadFilesStep(inputId, outputId) {\n",
              "  const inputElement = document.getElementById(inputId);\n",
              "  inputElement.disabled = false;\n",
              "\n",
              "  const outputElement = document.getElementById(outputId);\n",
              "  outputElement.innerHTML = '';\n",
              "\n",
              "  const pickedPromise = new Promise((resolve) => {\n",
              "    inputElement.addEventListener('change', (e) => {\n",
              "      resolve(e.target.files);\n",
              "    });\n",
              "  });\n",
              "\n",
              "  const cancel = document.createElement('button');\n",
              "  inputElement.parentElement.appendChild(cancel);\n",
              "  cancel.textContent = 'Cancel upload';\n",
              "  const cancelPromise = new Promise((resolve) => {\n",
              "    cancel.onclick = () => {\n",
              "      resolve(null);\n",
              "    };\n",
              "  });\n",
              "\n",
              "  // Wait for the user to pick the files.\n",
              "  const files = yield {\n",
              "    promise: Promise.race([pickedPromise, cancelPromise]),\n",
              "    response: {\n",
              "      action: 'starting',\n",
              "    }\n",
              "  };\n",
              "\n",
              "  cancel.remove();\n",
              "\n",
              "  // Disable the input element since further picks are not allowed.\n",
              "  inputElement.disabled = true;\n",
              "\n",
              "  if (!files) {\n",
              "    return {\n",
              "      response: {\n",
              "        action: 'complete',\n",
              "      }\n",
              "    };\n",
              "  }\n",
              "\n",
              "  for (const file of files) {\n",
              "    const li = document.createElement('li');\n",
              "    li.append(span(file.name, {fontWeight: 'bold'}));\n",
              "    li.append(span(\n",
              "        `(${file.type || 'n/a'}) - ${file.size} bytes, ` +\n",
              "        `last modified: ${\n",
              "            file.lastModifiedDate ? file.lastModifiedDate.toLocaleDateString() :\n",
              "                                    'n/a'} - `));\n",
              "    const percent = span('0% done');\n",
              "    li.appendChild(percent);\n",
              "\n",
              "    outputElement.appendChild(li);\n",
              "\n",
              "    const fileDataPromise = new Promise((resolve) => {\n",
              "      const reader = new FileReader();\n",
              "      reader.onload = (e) => {\n",
              "        resolve(e.target.result);\n",
              "      };\n",
              "      reader.readAsArrayBuffer(file);\n",
              "    });\n",
              "    // Wait for the data to be ready.\n",
              "    let fileData = yield {\n",
              "      promise: fileDataPromise,\n",
              "      response: {\n",
              "        action: 'continue',\n",
              "      }\n",
              "    };\n",
              "\n",
              "    // Use a chunked sending to avoid message size limits. See b/62115660.\n",
              "    let position = 0;\n",
              "    do {\n",
              "      const length = Math.min(fileData.byteLength - position, MAX_PAYLOAD_SIZE);\n",
              "      const chunk = new Uint8Array(fileData, position, length);\n",
              "      position += length;\n",
              "\n",
              "      const base64 = btoa(String.fromCharCode.apply(null, chunk));\n",
              "      yield {\n",
              "        response: {\n",
              "          action: 'append',\n",
              "          file: file.name,\n",
              "          data: base64,\n",
              "        },\n",
              "      };\n",
              "\n",
              "      let percentDone = fileData.byteLength === 0 ?\n",
              "          100 :\n",
              "          Math.round((position / fileData.byteLength) * 100);\n",
              "      percent.textContent = `${percentDone}% done`;\n",
              "\n",
              "    } while (position < fileData.byteLength);\n",
              "  }\n",
              "\n",
              "  // All done.\n",
              "  yield {\n",
              "    response: {\n",
              "      action: 'complete',\n",
              "    }\n",
              "  };\n",
              "}\n",
              "\n",
              "scope.google = scope.google || {};\n",
              "scope.google.colab = scope.google.colab || {};\n",
              "scope.google.colab._files = {\n",
              "  _uploadFiles,\n",
              "  _uploadFilesContinue,\n",
              "};\n",
              "})(self);\n",
              "</script> "
            ]
          },
          "metadata": {}
        },
        {
          "output_type": "stream",
          "name": "stdout",
          "text": [
            "Saving kaggle.json to kaggle.json\n"
          ]
        }
      ],
      "source": [
        "from google.colab import files\n",
        "! pip install -q kaggle\n",
        "files.upload() # upload kaggle API token for identification\n",
        "! mkdir ~/.kaggle\n",
        "! cp kaggle.json ~/.kaggle/\n",
        "! chmod 600 ~/.kaggle/kaggle.json\n",
        "#! kaggle datasets list"
      ]
    },
    {
      "cell_type": "code",
      "execution_count": null,
      "metadata": {
        "colab": {
          "base_uri": "https://localhost:8080/"
        },
        "id": "r53n5bcdlMe5",
        "outputId": "d60fc1c3-fe05-4386-ee49-e3bd02b14477"
      },
      "outputs": [
        {
          "output_type": "stream",
          "name": "stdout",
          "text": [
            "Downloading fake-news.zip to /content\n",
            " 90% 42.0M/46.5M [00:00<00:00, 141MB/s]\n",
            "100% 46.5M/46.5M [00:00<00:00, 132MB/s]\n",
            "fake-news.zip  kaggle.json  sample_data  submit.csv  test.csv  train.csv\n"
          ]
        }
      ],
      "source": [
        "#! kaggle competitions download -c nlp-getting-started\n",
        "! kaggle competitions download -c fake-news\n",
        "! unzip fake-news.zip  > /dev/null 2>&1\n",
        "! ls"
      ]
    },
    {
      "cell_type": "markdown",
      "metadata": {
        "id": "Mn0C7pwD6pEB"
      },
      "source": [
        "The next step is importing the general libraries (`pandas`, `numpy`, `tensorflow`, and `matplotlib`) that I will use in the project and reading the `csv` file containing the dataset. I will need a few other specific modules later on, but I will import them when needed, to make things more clear."
      ]
    },
    {
      "cell_type": "code",
      "execution_count": null,
      "metadata": {
        "id": "HkF4kyjXe6sT",
        "colab": {
          "base_uri": "https://localhost:8080/",
          "height": 348
        },
        "outputId": "82e47f2e-4381-4e1f-b420-34fea1e30551"
      },
      "outputs": [
        {
          "output_type": "execute_result",
          "data": {
            "text/plain": [
              "   id                                              title              author  \\\n",
              "0   0  House Dem Aide: We Didn’t Even See Comey’s Let...       Darrell Lucus   \n",
              "1   1  FLYNN: Hillary Clinton, Big Woman on Campus - ...     Daniel J. Flynn   \n",
              "2   2                  Why the Truth Might Get You Fired  Consortiumnews.com   \n",
              "3   3  15 Civilians Killed In Single US Airstrike Hav...     Jessica Purkiss   \n",
              "4   4  Iranian woman jailed for fictional unpublished...      Howard Portnoy   \n",
              "\n",
              "                                                text  label  \\\n",
              "0  House Dem Aide: We Didn’t Even See Comey’s Let...      1   \n",
              "1  Ever get the feeling your life circles the rou...      0   \n",
              "2  Why the Truth Might Get You Fired October 29, ...      1   \n",
              "3  Videos 15 Civilians Killed In Single US Airstr...      1   \n",
              "4  Print \\nAn Iranian woman has been sentenced to...      1   \n",
              "\n",
              "                                                news  \n",
              "0  House Dem Aide: We Didn’t Even See Comey’s Let...  \n",
              "1  FLYNN: Hillary Clinton, Big Woman on Campus - ...  \n",
              "2  Why the Truth Might Get You Fired Why the Trut...  \n",
              "3  15 Civilians Killed In Single US Airstrike Hav...  \n",
              "4  Iranian woman jailed for fictional unpublished...  "
            ],
            "text/html": [
              "\n",
              "  <div id=\"df-5e9eb09e-c330-44c7-a2d5-2777ac54c1cf\">\n",
              "    <div class=\"colab-df-container\">\n",
              "      <div>\n",
              "<style scoped>\n",
              "    .dataframe tbody tr th:only-of-type {\n",
              "        vertical-align: middle;\n",
              "    }\n",
              "\n",
              "    .dataframe tbody tr th {\n",
              "        vertical-align: top;\n",
              "    }\n",
              "\n",
              "    .dataframe thead th {\n",
              "        text-align: right;\n",
              "    }\n",
              "</style>\n",
              "<table border=\"1\" class=\"dataframe\">\n",
              "  <thead>\n",
              "    <tr style=\"text-align: right;\">\n",
              "      <th></th>\n",
              "      <th>id</th>\n",
              "      <th>title</th>\n",
              "      <th>author</th>\n",
              "      <th>text</th>\n",
              "      <th>label</th>\n",
              "      <th>news</th>\n",
              "    </tr>\n",
              "  </thead>\n",
              "  <tbody>\n",
              "    <tr>\n",
              "      <th>0</th>\n",
              "      <td>0</td>\n",
              "      <td>House Dem Aide: We Didn’t Even See Comey’s Let...</td>\n",
              "      <td>Darrell Lucus</td>\n",
              "      <td>House Dem Aide: We Didn’t Even See Comey’s Let...</td>\n",
              "      <td>1</td>\n",
              "      <td>House Dem Aide: We Didn’t Even See Comey’s Let...</td>\n",
              "    </tr>\n",
              "    <tr>\n",
              "      <th>1</th>\n",
              "      <td>1</td>\n",
              "      <td>FLYNN: Hillary Clinton, Big Woman on Campus - ...</td>\n",
              "      <td>Daniel J. Flynn</td>\n",
              "      <td>Ever get the feeling your life circles the rou...</td>\n",
              "      <td>0</td>\n",
              "      <td>FLYNN: Hillary Clinton, Big Woman on Campus - ...</td>\n",
              "    </tr>\n",
              "    <tr>\n",
              "      <th>2</th>\n",
              "      <td>2</td>\n",
              "      <td>Why the Truth Might Get You Fired</td>\n",
              "      <td>Consortiumnews.com</td>\n",
              "      <td>Why the Truth Might Get You Fired October 29, ...</td>\n",
              "      <td>1</td>\n",
              "      <td>Why the Truth Might Get You Fired Why the Trut...</td>\n",
              "    </tr>\n",
              "    <tr>\n",
              "      <th>3</th>\n",
              "      <td>3</td>\n",
              "      <td>15 Civilians Killed In Single US Airstrike Hav...</td>\n",
              "      <td>Jessica Purkiss</td>\n",
              "      <td>Videos 15 Civilians Killed In Single US Airstr...</td>\n",
              "      <td>1</td>\n",
              "      <td>15 Civilians Killed In Single US Airstrike Hav...</td>\n",
              "    </tr>\n",
              "    <tr>\n",
              "      <th>4</th>\n",
              "      <td>4</td>\n",
              "      <td>Iranian woman jailed for fictional unpublished...</td>\n",
              "      <td>Howard Portnoy</td>\n",
              "      <td>Print \\nAn Iranian woman has been sentenced to...</td>\n",
              "      <td>1</td>\n",
              "      <td>Iranian woman jailed for fictional unpublished...</td>\n",
              "    </tr>\n",
              "  </tbody>\n",
              "</table>\n",
              "</div>\n",
              "      <button class=\"colab-df-convert\" onclick=\"convertToInteractive('df-5e9eb09e-c330-44c7-a2d5-2777ac54c1cf')\"\n",
              "              title=\"Convert this dataframe to an interactive table.\"\n",
              "              style=\"display:none;\">\n",
              "        \n",
              "  <svg xmlns=\"http://www.w3.org/2000/svg\" height=\"24px\"viewBox=\"0 0 24 24\"\n",
              "       width=\"24px\">\n",
              "    <path d=\"M0 0h24v24H0V0z\" fill=\"none\"/>\n",
              "    <path d=\"M18.56 5.44l.94 2.06.94-2.06 2.06-.94-2.06-.94-.94-2.06-.94 2.06-2.06.94zm-11 1L8.5 8.5l.94-2.06 2.06-.94-2.06-.94L8.5 2.5l-.94 2.06-2.06.94zm10 10l.94 2.06.94-2.06 2.06-.94-2.06-.94-.94-2.06-.94 2.06-2.06.94z\"/><path d=\"M17.41 7.96l-1.37-1.37c-.4-.4-.92-.59-1.43-.59-.52 0-1.04.2-1.43.59L10.3 9.45l-7.72 7.72c-.78.78-.78 2.05 0 2.83L4 21.41c.39.39.9.59 1.41.59.51 0 1.02-.2 1.41-.59l7.78-7.78 2.81-2.81c.8-.78.8-2.07 0-2.86zM5.41 20L4 18.59l7.72-7.72 1.47 1.35L5.41 20z\"/>\n",
              "  </svg>\n",
              "      </button>\n",
              "      \n",
              "  <style>\n",
              "    .colab-df-container {\n",
              "      display:flex;\n",
              "      flex-wrap:wrap;\n",
              "      gap: 12px;\n",
              "    }\n",
              "\n",
              "    .colab-df-convert {\n",
              "      background-color: #E8F0FE;\n",
              "      border: none;\n",
              "      border-radius: 50%;\n",
              "      cursor: pointer;\n",
              "      display: none;\n",
              "      fill: #1967D2;\n",
              "      height: 32px;\n",
              "      padding: 0 0 0 0;\n",
              "      width: 32px;\n",
              "    }\n",
              "\n",
              "    .colab-df-convert:hover {\n",
              "      background-color: #E2EBFA;\n",
              "      box-shadow: 0px 1px 2px rgba(60, 64, 67, 0.3), 0px 1px 3px 1px rgba(60, 64, 67, 0.15);\n",
              "      fill: #174EA6;\n",
              "    }\n",
              "\n",
              "    [theme=dark] .colab-df-convert {\n",
              "      background-color: #3B4455;\n",
              "      fill: #D2E3FC;\n",
              "    }\n",
              "\n",
              "    [theme=dark] .colab-df-convert:hover {\n",
              "      background-color: #434B5C;\n",
              "      box-shadow: 0px 1px 3px 1px rgba(0, 0, 0, 0.15);\n",
              "      filter: drop-shadow(0px 1px 2px rgba(0, 0, 0, 0.3));\n",
              "      fill: #FFFFFF;\n",
              "    }\n",
              "  </style>\n",
              "\n",
              "      <script>\n",
              "        const buttonEl =\n",
              "          document.querySelector('#df-5e9eb09e-c330-44c7-a2d5-2777ac54c1cf button.colab-df-convert');\n",
              "        buttonEl.style.display =\n",
              "          google.colab.kernel.accessAllowed ? 'block' : 'none';\n",
              "\n",
              "        async function convertToInteractive(key) {\n",
              "          const element = document.querySelector('#df-5e9eb09e-c330-44c7-a2d5-2777ac54c1cf');\n",
              "          const dataTable =\n",
              "            await google.colab.kernel.invokeFunction('convertToInteractive',\n",
              "                                                     [key], {});\n",
              "          if (!dataTable) return;\n",
              "\n",
              "          const docLinkHtml = 'Like what you see? Visit the ' +\n",
              "            '<a target=\"_blank\" href=https://colab.research.google.com/notebooks/data_table.ipynb>data table notebook</a>'\n",
              "            + ' to learn more about interactive tables.';\n",
              "          element.innerHTML = '';\n",
              "          dataTable['output_type'] = 'display_data';\n",
              "          await google.colab.output.renderOutput(dataTable, element);\n",
              "          const docLink = document.createElement('div');\n",
              "          docLink.innerHTML = docLinkHtml;\n",
              "          element.appendChild(docLink);\n",
              "        }\n",
              "      </script>\n",
              "    </div>\n",
              "  </div>\n",
              "  "
            ]
          },
          "metadata": {},
          "execution_count": 3
        }
      ],
      "source": [
        "import pandas as pd\n",
        "import numpy as np\n",
        "import tensorflow as tf\n",
        "\n",
        "import matplotlib.pyplot as plt\n",
        "%matplotlib inline\n",
        "\n",
        "tf.random.set_seed(7)\n",
        "\n",
        "df = pd.read_csv('train.csv')\n",
        "\n",
        "# create new col: news = title + text\n",
        "# this also deals with null values.\n",
        "df['news'] = df['title'].fillna('') + ' ' + df['text'].fillna('')\n",
        "df.head(5)"
      ]
    },
    {
      "cell_type": "markdown",
      "metadata": {
        "id": "_DLjzL7fkhy8"
      },
      "source": [
        "# Dataset preparation\n",
        "Once the dataset is loaded in memory it needs to be prepared for NLP. So I first performed a brief exploratory data analysis, to decide how to continue.\n",
        "Then I **cleaned** it, **tokenized** it, and created an **embedding** using a pretrained `word2vec` model, taken from the library `gensim` (the fake news dataset was not big enough to obtain a reliable embedding from scratch)."
      ]
    },
    {
      "cell_type": "markdown",
      "metadata": {
        "id": "NvLpLxWFi8xX"
      },
      "source": [
        "## Text Cleaning\n",
        "The text was cleaned with these operations:\n",
        " - removed urls, html text, punctuation\n",
        " - the most common stopwords that don't change the meaning were removed, using the library nltk\n",
        " - lemmatization (?) maybe it is not necessary"
      ]
    },
    {
      "cell_type": "code",
      "execution_count": null,
      "metadata": {
        "colab": {
          "base_uri": "https://localhost:8080/",
          "height": 692
        },
        "id": "EAb3tPFnjBJQ",
        "outputId": "81acd21d-d510-4c67-c1e1-a6e0d677a126"
      },
      "outputs": [
        {
          "output_type": "stream",
          "name": "stderr",
          "text": [
            "[nltk_data] Downloading package stopwords to /root/nltk_data...\n",
            "[nltk_data]   Unzipping corpora/stopwords.zip.\n"
          ]
        },
        {
          "output_type": "stream",
          "name": "stdout",
          "text": [
            "Max length of a sentence in the corpus: 20731\n"
          ]
        },
        {
          "output_type": "execute_result",
          "data": {
            "text/plain": [
              "          id                                              title  \\\n",
              "0          0  House Dem Aide: We Didn’t Even See Comey’s Let...   \n",
              "1          1  FLYNN: Hillary Clinton, Big Woman on Campus - ...   \n",
              "2          2                  Why the Truth Might Get You Fired   \n",
              "3          3  15 Civilians Killed In Single US Airstrike Hav...   \n",
              "4          4  Iranian woman jailed for fictional unpublished...   \n",
              "...      ...                                                ...   \n",
              "20795  20795  Rapper T.I.: Trump a ’Poster Child For White S...   \n",
              "20796  20796  N.F.L. Playoffs: Schedule, Matchups and Odds -...   \n",
              "20797  20797  Macy’s Is Said to Receive Takeover Approach by...   \n",
              "20798  20798  NATO, Russia To Hold Parallel Exercises In Bal...   \n",
              "20799  20799                          What Keeps the F-35 Alive   \n",
              "\n",
              "                                          author  \\\n",
              "0                                  Darrell Lucus   \n",
              "1                                Daniel J. Flynn   \n",
              "2                             Consortiumnews.com   \n",
              "3                                Jessica Purkiss   \n",
              "4                                 Howard Portnoy   \n",
              "...                                          ...   \n",
              "20795                              Jerome Hudson   \n",
              "20796                           Benjamin Hoffman   \n",
              "20797  Michael J. de la Merced and Rachel Abrams   \n",
              "20798                                Alex Ansary   \n",
              "20799                              David Swanson   \n",
              "\n",
              "                                                    text  label  \\\n",
              "0      House Dem Aide: We Didn’t Even See Comey’s Let...      1   \n",
              "1      Ever get the feeling your life circles the rou...      0   \n",
              "2      Why the Truth Might Get You Fired October 29, ...      1   \n",
              "3      Videos 15 Civilians Killed In Single US Airstr...      1   \n",
              "4      Print \\nAn Iranian woman has been sentenced to...      1   \n",
              "...                                                  ...    ...   \n",
              "20795  Rapper T. I. unloaded on black celebrities who...      0   \n",
              "20796  When the Green Bay Packers lost to the Washing...      0   \n",
              "20797  The Macy’s of today grew from the union of sev...      0   \n",
              "20798  NATO, Russia To Hold Parallel Exercises In Bal...      1   \n",
              "20799    David Swanson is an author, activist, journa...      1   \n",
              "\n",
              "                                                    news  \n",
              "0      house dem aide didnt even see comeys letter ja...  \n",
              "1      flynn hillary clinton big woman campus breitba...  \n",
              "2      truth might get fired truth might get fired oc...  \n",
              "3      15 civilians killed single us airstrike identi...  \n",
              "4      iranian woman jailed fictional unpublished sto...  \n",
              "...                                                  ...  \n",
              "20795  rapper ti trump poster child white supremacy r...  \n",
              "20796  nfl playoffs schedule matchups odds new york t...  \n",
              "20797  macys said receive takeover approach hudsons b...  \n",
              "20798  nato russia hold parallel exercises balkans na...  \n",
              "20799  keeps f35 alive david swanson author activist ...  \n",
              "\n",
              "[20800 rows x 6 columns]"
            ],
            "text/html": [
              "\n",
              "  <div id=\"df-05f8d5b7-f5a0-48ce-af88-39d2aef7ddfa\">\n",
              "    <div class=\"colab-df-container\">\n",
              "      <div>\n",
              "<style scoped>\n",
              "    .dataframe tbody tr th:only-of-type {\n",
              "        vertical-align: middle;\n",
              "    }\n",
              "\n",
              "    .dataframe tbody tr th {\n",
              "        vertical-align: top;\n",
              "    }\n",
              "\n",
              "    .dataframe thead th {\n",
              "        text-align: right;\n",
              "    }\n",
              "</style>\n",
              "<table border=\"1\" class=\"dataframe\">\n",
              "  <thead>\n",
              "    <tr style=\"text-align: right;\">\n",
              "      <th></th>\n",
              "      <th>id</th>\n",
              "      <th>title</th>\n",
              "      <th>author</th>\n",
              "      <th>text</th>\n",
              "      <th>label</th>\n",
              "      <th>news</th>\n",
              "    </tr>\n",
              "  </thead>\n",
              "  <tbody>\n",
              "    <tr>\n",
              "      <th>0</th>\n",
              "      <td>0</td>\n",
              "      <td>House Dem Aide: We Didn’t Even See Comey’s Let...</td>\n",
              "      <td>Darrell Lucus</td>\n",
              "      <td>House Dem Aide: We Didn’t Even See Comey’s Let...</td>\n",
              "      <td>1</td>\n",
              "      <td>house dem aide didnt even see comeys letter ja...</td>\n",
              "    </tr>\n",
              "    <tr>\n",
              "      <th>1</th>\n",
              "      <td>1</td>\n",
              "      <td>FLYNN: Hillary Clinton, Big Woman on Campus - ...</td>\n",
              "      <td>Daniel J. Flynn</td>\n",
              "      <td>Ever get the feeling your life circles the rou...</td>\n",
              "      <td>0</td>\n",
              "      <td>flynn hillary clinton big woman campus breitba...</td>\n",
              "    </tr>\n",
              "    <tr>\n",
              "      <th>2</th>\n",
              "      <td>2</td>\n",
              "      <td>Why the Truth Might Get You Fired</td>\n",
              "      <td>Consortiumnews.com</td>\n",
              "      <td>Why the Truth Might Get You Fired October 29, ...</td>\n",
              "      <td>1</td>\n",
              "      <td>truth might get fired truth might get fired oc...</td>\n",
              "    </tr>\n",
              "    <tr>\n",
              "      <th>3</th>\n",
              "      <td>3</td>\n",
              "      <td>15 Civilians Killed In Single US Airstrike Hav...</td>\n",
              "      <td>Jessica Purkiss</td>\n",
              "      <td>Videos 15 Civilians Killed In Single US Airstr...</td>\n",
              "      <td>1</td>\n",
              "      <td>15 civilians killed single us airstrike identi...</td>\n",
              "    </tr>\n",
              "    <tr>\n",
              "      <th>4</th>\n",
              "      <td>4</td>\n",
              "      <td>Iranian woman jailed for fictional unpublished...</td>\n",
              "      <td>Howard Portnoy</td>\n",
              "      <td>Print \\nAn Iranian woman has been sentenced to...</td>\n",
              "      <td>1</td>\n",
              "      <td>iranian woman jailed fictional unpublished sto...</td>\n",
              "    </tr>\n",
              "    <tr>\n",
              "      <th>...</th>\n",
              "      <td>...</td>\n",
              "      <td>...</td>\n",
              "      <td>...</td>\n",
              "      <td>...</td>\n",
              "      <td>...</td>\n",
              "      <td>...</td>\n",
              "    </tr>\n",
              "    <tr>\n",
              "      <th>20795</th>\n",
              "      <td>20795</td>\n",
              "      <td>Rapper T.I.: Trump a ’Poster Child For White S...</td>\n",
              "      <td>Jerome Hudson</td>\n",
              "      <td>Rapper T. I. unloaded on black celebrities who...</td>\n",
              "      <td>0</td>\n",
              "      <td>rapper ti trump poster child white supremacy r...</td>\n",
              "    </tr>\n",
              "    <tr>\n",
              "      <th>20796</th>\n",
              "      <td>20796</td>\n",
              "      <td>N.F.L. Playoffs: Schedule, Matchups and Odds -...</td>\n",
              "      <td>Benjamin Hoffman</td>\n",
              "      <td>When the Green Bay Packers lost to the Washing...</td>\n",
              "      <td>0</td>\n",
              "      <td>nfl playoffs schedule matchups odds new york t...</td>\n",
              "    </tr>\n",
              "    <tr>\n",
              "      <th>20797</th>\n",
              "      <td>20797</td>\n",
              "      <td>Macy’s Is Said to Receive Takeover Approach by...</td>\n",
              "      <td>Michael J. de la Merced and Rachel Abrams</td>\n",
              "      <td>The Macy’s of today grew from the union of sev...</td>\n",
              "      <td>0</td>\n",
              "      <td>macys said receive takeover approach hudsons b...</td>\n",
              "    </tr>\n",
              "    <tr>\n",
              "      <th>20798</th>\n",
              "      <td>20798</td>\n",
              "      <td>NATO, Russia To Hold Parallel Exercises In Bal...</td>\n",
              "      <td>Alex Ansary</td>\n",
              "      <td>NATO, Russia To Hold Parallel Exercises In Bal...</td>\n",
              "      <td>1</td>\n",
              "      <td>nato russia hold parallel exercises balkans na...</td>\n",
              "    </tr>\n",
              "    <tr>\n",
              "      <th>20799</th>\n",
              "      <td>20799</td>\n",
              "      <td>What Keeps the F-35 Alive</td>\n",
              "      <td>David Swanson</td>\n",
              "      <td>David Swanson is an author, activist, journa...</td>\n",
              "      <td>1</td>\n",
              "      <td>keeps f35 alive david swanson author activist ...</td>\n",
              "    </tr>\n",
              "  </tbody>\n",
              "</table>\n",
              "<p>20800 rows × 6 columns</p>\n",
              "</div>\n",
              "      <button class=\"colab-df-convert\" onclick=\"convertToInteractive('df-05f8d5b7-f5a0-48ce-af88-39d2aef7ddfa')\"\n",
              "              title=\"Convert this dataframe to an interactive table.\"\n",
              "              style=\"display:none;\">\n",
              "        \n",
              "  <svg xmlns=\"http://www.w3.org/2000/svg\" height=\"24px\"viewBox=\"0 0 24 24\"\n",
              "       width=\"24px\">\n",
              "    <path d=\"M0 0h24v24H0V0z\" fill=\"none\"/>\n",
              "    <path d=\"M18.56 5.44l.94 2.06.94-2.06 2.06-.94-2.06-.94-.94-2.06-.94 2.06-2.06.94zm-11 1L8.5 8.5l.94-2.06 2.06-.94-2.06-.94L8.5 2.5l-.94 2.06-2.06.94zm10 10l.94 2.06.94-2.06 2.06-.94-2.06-.94-.94-2.06-.94 2.06-2.06.94z\"/><path d=\"M17.41 7.96l-1.37-1.37c-.4-.4-.92-.59-1.43-.59-.52 0-1.04.2-1.43.59L10.3 9.45l-7.72 7.72c-.78.78-.78 2.05 0 2.83L4 21.41c.39.39.9.59 1.41.59.51 0 1.02-.2 1.41-.59l7.78-7.78 2.81-2.81c.8-.78.8-2.07 0-2.86zM5.41 20L4 18.59l7.72-7.72 1.47 1.35L5.41 20z\"/>\n",
              "  </svg>\n",
              "      </button>\n",
              "      \n",
              "  <style>\n",
              "    .colab-df-container {\n",
              "      display:flex;\n",
              "      flex-wrap:wrap;\n",
              "      gap: 12px;\n",
              "    }\n",
              "\n",
              "    .colab-df-convert {\n",
              "      background-color: #E8F0FE;\n",
              "      border: none;\n",
              "      border-radius: 50%;\n",
              "      cursor: pointer;\n",
              "      display: none;\n",
              "      fill: #1967D2;\n",
              "      height: 32px;\n",
              "      padding: 0 0 0 0;\n",
              "      width: 32px;\n",
              "    }\n",
              "\n",
              "    .colab-df-convert:hover {\n",
              "      background-color: #E2EBFA;\n",
              "      box-shadow: 0px 1px 2px rgba(60, 64, 67, 0.3), 0px 1px 3px 1px rgba(60, 64, 67, 0.15);\n",
              "      fill: #174EA6;\n",
              "    }\n",
              "\n",
              "    [theme=dark] .colab-df-convert {\n",
              "      background-color: #3B4455;\n",
              "      fill: #D2E3FC;\n",
              "    }\n",
              "\n",
              "    [theme=dark] .colab-df-convert:hover {\n",
              "      background-color: #434B5C;\n",
              "      box-shadow: 0px 1px 3px 1px rgba(0, 0, 0, 0.15);\n",
              "      filter: drop-shadow(0px 1px 2px rgba(0, 0, 0, 0.3));\n",
              "      fill: #FFFFFF;\n",
              "    }\n",
              "  </style>\n",
              "\n",
              "      <script>\n",
              "        const buttonEl =\n",
              "          document.querySelector('#df-05f8d5b7-f5a0-48ce-af88-39d2aef7ddfa button.colab-df-convert');\n",
              "        buttonEl.style.display =\n",
              "          google.colab.kernel.accessAllowed ? 'block' : 'none';\n",
              "\n",
              "        async function convertToInteractive(key) {\n",
              "          const element = document.querySelector('#df-05f8d5b7-f5a0-48ce-af88-39d2aef7ddfa');\n",
              "          const dataTable =\n",
              "            await google.colab.kernel.invokeFunction('convertToInteractive',\n",
              "                                                     [key], {});\n",
              "          if (!dataTable) return;\n",
              "\n",
              "          const docLinkHtml = 'Like what you see? Visit the ' +\n",
              "            '<a target=\"_blank\" href=https://colab.research.google.com/notebooks/data_table.ipynb>data table notebook</a>'\n",
              "            + ' to learn more about interactive tables.';\n",
              "          element.innerHTML = '';\n",
              "          dataTable['output_type'] = 'display_data';\n",
              "          await google.colab.output.renderOutput(dataTable, element);\n",
              "          const docLink = document.createElement('div');\n",
              "          docLink.innerHTML = docLinkHtml;\n",
              "          element.appendChild(docLink);\n",
              "        }\n",
              "      </script>\n",
              "    </div>\n",
              "  </div>\n",
              "  "
            ]
          },
          "metadata": {},
          "execution_count": 4
        }
      ],
      "source": [
        "import re     # for regular expression support\n",
        "import nltk   # for standard text-processing tasks\n",
        "nltk.download('stopwords')\n",
        "from nltk.corpus import stopwords\n",
        "\n",
        "# some helper functions for pre-processing the text\n",
        "def remove_urls(text):\n",
        "    \"\"\"For removing urls\"\"\"\n",
        "    url_remove = re.compile(r'https?://\\S+|www\\.\\S+')\n",
        "    return url_remove.sub(r'', text)\n",
        "\n",
        "def remove_html(text):\n",
        "    \"\"\"For removing html text\"\"\"\n",
        "    html = re.compile(r'<.*?>')\n",
        "    return html.sub(r'',text)\n",
        "\n",
        "def punct_remove(text):\n",
        "    \"\"\"For removing punctuations\"\"\"\n",
        "    punct = re.sub(r\"[^\\w\\s\\d]\",\"\", text)\n",
        "    return punct\n",
        "\n",
        "def remove_stopwords(text):\n",
        "    \"\"\"For removing stopwords\"\"\"\n",
        "    STOPWORDS = set(stopwords.words('english'))\n",
        "    return \" \".join([word for word in str(text).split() if word not in STOPWORDS])\n",
        "\n",
        "# for cleaning or pre-processing the text\n",
        "def clean_text(text):\n",
        "\n",
        "    # remove urls\n",
        "    new_text = remove_urls(text)\n",
        "\n",
        "    # remove html text\n",
        "    new_text = remove_html(new_text)\n",
        "\n",
        "    # remove punctuations\n",
        "    new_text = punct_remove(new_text)\n",
        "\n",
        "    # lower casing the text\n",
        "    new_text = new_text.strip().lower()\n",
        "\n",
        "    # remove stop words\n",
        "    new_text = remove_stopwords(new_text)\n",
        "\n",
        "    return new_text\n",
        "\n",
        "# clean news text\n",
        "df['news'] = df['news'].apply(lambda x: clean_text(x))\n",
        "df.head()\n",
        "\n",
        "# maximum length of a sentence in the corpus\n",
        "max_len = (df['news'].apply(lambda x: len(x.split(' ')))).max()\n",
        "print('Max length of a sentence in the corpus: ' + str(max_len))\n",
        "df"
      ]
    },
    {
      "cell_type": "markdown",
      "metadata": {
        "id": "wnTgezpdpEZj"
      },
      "source": [
        "## Tokenization"
      ]
    },
    {
      "cell_type": "code",
      "execution_count": null,
      "metadata": {
        "id": "9BP0hIzZpKKW",
        "colab": {
          "base_uri": "https://localhost:8080/"
        },
        "outputId": "7d3b67cb-8676-4902-b1bf-0dc78c30dadb"
      },
      "outputs": [
        {
          "output_type": "execute_result",
          "data": {
            "text/plain": [
              "0        [house, dem, aide, didnt, even, see, comeys, l...\n",
              "1        [flynn, hillary, clinton, big, woman, campus, ...\n",
              "2        [truth, might, get, fired, truth, might, get, ...\n",
              "3        [15, civilians, killed, single, us, airstrike,...\n",
              "4        [iranian, woman, jailed, fictional, unpublishe...\n",
              "                               ...                        \n",
              "20795    [rapper, ti, trump, poster, child, white, supr...\n",
              "20796    [nfl, playoffs, schedule, matchups, odds, new,...\n",
              "20797    [macys, said, receive, takeover, approach, hud...\n",
              "20798    [nato, russia, hold, parallel, exercises, balk...\n",
              "20799    [keeps, f35, alive, david, swanson, author, ac...\n",
              "Name: tokens, Length: 20800, dtype: object"
            ]
          },
          "metadata": {},
          "execution_count": 5
        }
      ],
      "source": [
        "# create a new column with the tokenized text\n",
        "df['tokens'] = df['news'].str.split()\n",
        "#df = df[['author', 'label', 'tokens']]\n",
        "df['tokens']"
      ]
    },
    {
      "cell_type": "code",
      "execution_count": null,
      "metadata": {
        "colab": {
          "base_uri": "https://localhost:8080/"
        },
        "id": "sI1xt59lgAWb",
        "outputId": "c7bc505a-2d4e-4178-a0cc-17c5a62bfab1"
      },
      "outputs": [
        {
          "name": "stderr",
          "output_type": "stream",
          "text": [
            "[nltk_data] Downloading package wordnet to /root/nltk_data...\n",
            "[nltk_data] Downloading package omw-1.4 to /root/nltk_data...\n"
          ]
        }
      ],
      "source": [
        "from nltk.stem import WordNetLemmatizer\n",
        "nltk.download('wordnet')\n",
        "nltk.download('omw-1.4')\n",
        "from gensim.models import Word2Vec\n",
        "\n",
        "# lemmatize the words\n",
        "lemmatizer = WordNetLemmatizer()\n",
        "df['tokens'] = df['tokens'].apply(lambda x: [lemmatizer.lemmatize(word) for word in x])\n",
        "del lemmatizer\n",
        "#df['tokens']"
      ]
    },
    {
      "cell_type": "markdown",
      "metadata": {
        "id": "G1z2ubzmWMT9"
      },
      "source": [
        "## Embedding: gensim pretrained word2vec\n",
        "At this moment I have transformed the each element in the dataset in a list of *lemmatized* words, and I have eliminated all punctuation or special character. (there is also the label, but I'm talking about the text features)\n",
        "\n",
        "The next step is creating a way to represent those words, in order to be able to feed them to a classification model.\n",
        "\n",
        "A really effective way is to **embed** them, using a `word2vec` model. This allow to represent them in a way that already takes into account the similarity between words, according to them appearing in similar contexts.\n",
        "\n",
        "To do this I used the library `gensim` which provides a standard implementation of the `word2vec` model, but also a set of pretrained models. I choose to use one of those, since my dataset was not big enough to obtain a meaningful embedding (I tried).\n",
        "\n",
        "I choose the `glove-wiki-gigaword-100` model, which embeds words in a 100 dimensional feature space, and was trained on the wikipedia and gigaword datasets."
      ]
    },
    {
      "cell_type": "code",
      "execution_count": null,
      "metadata": {
        "colab": {
          "base_uri": "https://localhost:8080/"
        },
        "id": "E0XDFw2vLscm",
        "outputId": "ec57e42a-1726-4b6e-b80a-db246a1ceb95"
      },
      "outputs": [
        {
          "name": "stdout",
          "output_type": "stream",
          "text": [
            "[=================================================-] 99.0% 126.8/128.1MB downloaded\n"
          ]
        }
      ],
      "source": [
        "import gensim.downloader as api\n",
        "# download the pretrained embeddings\n",
        "glove_vectors = api.load(\"glove-wiki-gigaword-100\")\n",
        "#cn_vectors = api.load(\"conceptnet-numberbatch-17-06-300\")\n",
        "#pre_ft_vectors = api.load('fasttext-wiki-news-subwords-300')"
      ]
    },
    {
      "cell_type": "markdown",
      "metadata": {
        "id": "-2xrxGK-U9Io"
      },
      "source": [
        "### Info on the available models\n",
        "Here is a brief description of all available models."
      ]
    },
    {
      "cell_type": "code",
      "execution_count": null,
      "metadata": {
        "colab": {
          "base_uri": "https://localhost:8080/"
        },
        "id": "4k-C-UR2cSH_",
        "outputId": "1799c5ce-34df-44c1-97d1-4915792c9fa4"
      },
      "outputs": [
        {
          "name": "stdout",
          "output_type": "stream",
          "text": [
            "__testing_word2vec-matrix-synopsis (-1 records): [THIS IS ONLY FOR TESTING] Word vecrors of the movie matrix....\n",
            "conceptnet-numberbatch-17-06-300 (1917247 records): ConceptNet Numberbatch consists of state-of-the-art semantic vectors (also known as word embeddings) that can be used directly as a representation of word meanings or as a starting point for further machine learning. ConceptNet Numberbatch is part of the ConceptNet open data project. ConceptNet provides lots of ways to compute with word meanings, one of which is word embeddings. ConceptNet Numberbatch is a snapshot of just the word embeddings. It is built using an ensemble that combines data from ConceptNet, word2vec, GloVe, and OpenSubtitles 2016, using a variation on retrofitting....\n",
            "fasttext-wiki-news-subwords-300 (999999 records): 1 million word vectors trained on Wikipedia 2017, UMBC webbase corpus and statmt.org news dataset (16B tokens)....\n",
            "glove-twitter-100 (1193514 records): Pre-trained vectors based on  2B tweets, 27B tokens, 1.2M vocab, uncased (https://nlp.stanford.edu/projects/glove/)...\n",
            "glove-twitter-200 (1193514 records): Pre-trained vectors based on 2B tweets, 27B tokens, 1.2M vocab, uncased (https://nlp.stanford.edu/projects/glove/)....\n",
            "glove-twitter-25 (1193514 records): Pre-trained vectors based on 2B tweets, 27B tokens, 1.2M vocab, uncased (https://nlp.stanford.edu/projects/glove/)....\n",
            "glove-twitter-50 (1193514 records): Pre-trained vectors based on 2B tweets, 27B tokens, 1.2M vocab, uncased (https://nlp.stanford.edu/projects/glove/)...\n",
            "glove-wiki-gigaword-100 (400000 records): Pre-trained vectors based on Wikipedia 2014 + Gigaword 5.6B tokens, 400K vocab, uncased (https://nlp.stanford.edu/projects/glove/)....\n",
            "glove-wiki-gigaword-200 (400000 records): Pre-trained vectors based on Wikipedia 2014 + Gigaword, 5.6B tokens, 400K vocab, uncased (https://nlp.stanford.edu/projects/glove/)....\n",
            "glove-wiki-gigaword-300 (400000 records): Pre-trained vectors based on Wikipedia 2014 + Gigaword, 5.6B tokens, 400K vocab, uncased (https://nlp.stanford.edu/projects/glove/)....\n",
            "glove-wiki-gigaword-50 (400000 records): Pre-trained vectors based on Wikipedia 2014 + Gigaword, 5.6B tokens, 400K vocab, uncased (https://nlp.stanford.edu/projects/glove/)....\n",
            "word2vec-google-news-300 (3000000 records): Pre-trained vectors trained on a part of the Google News dataset (about 100 billion words). The model contains 300-dimensional vectors for 3 million words and phrases. The phrases were obtained using a simple data-driven approach described in 'Distributed Representations of Words and Phrases and their Compositionality' (https://code.google.com/archive/p/word2vec/)....\n",
            "word2vec-ruscorpora-300 (184973 records): Word2vec Continuous Skipgram vectors trained on full Russian National Corpus (about 250M words). The model contains 185K words....\n"
          ]
        }
      ],
      "source": [
        "info = api.info()\n",
        "\n",
        "# check the available pretrained models\n",
        "for model_name, model_data in sorted(info['models'].items()):\n",
        "    print(\n",
        "        '%s (%d records): %s' % (\n",
        "            model_name,\n",
        "            model_data.get('num_records', -1),\n",
        "            model_data['description'][:] + '...',\n",
        "        )\n",
        "    )"
      ]
    },
    {
      "cell_type": "markdown",
      "metadata": {
        "id": "aV-aMpofQ-Pt"
      },
      "source": [
        "### gensim word2vec Encoding\n",
        "To encode the text I encoded each word in each sentence using gensim' model, and then I had 2 options:\n",
        " - pad each sentence with zeros to match the max lenght of sentences in the dataset. In this way I would obtain a tensor of shape (dataset len, max sentence len, num of encoding features) = (20 000, 20 000, 100). In total 40 billions floats, the ram of colab can't hold it.\n",
        " - average the encoding of each sentence\n",
        "I choose the second, due to the unfeasibility of the first.\n",
        "\n",
        "I found I turnaround for this problem later on, but I worked really hard for this function and I really like the result so I kept for the first simple 'reference' model."
      ]
    },
    {
      "cell_type": "code",
      "execution_count": null,
      "metadata": {
        "colab": {
          "base_uri": "https://localhost:8080/"
        },
        "id": "5hTCdCBWa1L9",
        "outputId": "d573bef8-731d-4aeb-ccf8-7563022677d5"
      },
      "outputs": [
        {
          "name": "stderr",
          "output_type": "stream",
          "text": [
            "<ipython-input-12-71f97370e976>:6: DeprecationWarning: Call to deprecated `wv` (Attribute will be removed in 4.0.0, use self instead).\n",
            "  index2word_set = set(w2v_model.wv.index2word)\n"
          ]
        }
      ],
      "source": [
        "# Load a pre-trained word2vec model\n",
        "w2v_model = glove_vectors\n",
        "\n",
        "# Index2word is a list that contains the names of the words in\n",
        "# the model's vocabulary. Convert it to a set, for speed\n",
        "index2word_set = set(w2v_model.wv.index2word)\n",
        "\n",
        "def encode_text(tokens, model = w2v_model, num_features = 100):\n",
        "    # Initialize an empty numpy array (for speed)\n",
        "    features = np.zeros((num_features,), dtype=\"float32\")\n",
        "\n",
        "    # number of words in the sentence\n",
        "    nwords = 0\n",
        "\n",
        "    # Loop over each word in the review and, if it is in the model's\n",
        "    # vocaublary, add its feature vector to the total\n",
        "    for token in tokens:\n",
        "        if token in index2word_set:\n",
        "            nwords += 1\n",
        "            features = np.add(features, model[token])\n",
        "    # Divide the result by the number of words to get the average\n",
        "    if nwords == 0:\n",
        "        nwords = 1\n",
        "    features = np.divide(features, nwords)\n",
        "    return features\n",
        "\n",
        "df['encoding'] = df['tokens'].apply(lambda x: encode_text(x))\n",
        "del(index2word_set, w2v_model)"
      ]
    },
    {
      "cell_type": "markdown",
      "metadata": {
        "id": "ot4Ip1q_XfHl"
      },
      "source": [
        "### tf tensors dataset\n",
        "Finally here below I converted the data to tf tensors, in order to be able to feed them to a neural network.\n",
        "\n",
        "The pandas dataframe column `encoding` was a pandas Series of numpy arrays. I turned it into an array of arrays by accessing the `values` property, then to a `np.ndarray` (2 dimensional array) with `np.vstack`, and finally to a tf tensor with `tf.convert_to_tensor`.  \n",
        "\n",
        "For the y values I choose to one-hot encode the values. In this case it would not be necessary, being a binary classification problem. I did anyway so that this approach could be generalized, for example to the case of text classification of articles in base of their topic."
      ]
    },
    {
      "cell_type": "code",
      "execution_count": null,
      "metadata": {
        "colab": {
          "base_uri": "https://localhost:8080/"
        },
        "id": "uaSymlfWV9bW",
        "outputId": "8bc69482-fb43-4641-8cb3-b11d613a33de"
      },
      "outputs": [
        {
          "data": {
            "text/plain": [
              "TensorShape([20800, 100])"
            ]
          },
          "execution_count": 13,
          "metadata": {},
          "output_type": "execute_result"
        }
      ],
      "source": [
        "from keras.utils.np_utils import to_categorical\n",
        "\n",
        "X = tf.convert_to_tensor( np.vstack(df.encoding.values))\n",
        "#df = df[['author', 'label', 'tokens']]\n",
        "\n",
        "X_train, X_test = X[:19000], X[19000:]\n",
        "X_train.shape\n",
        "\n",
        "# one hot encoding the labels\n",
        "y = tf.convert_to_tensor( to_categorical(df.label))\n",
        "y_train, y_test = y[:19000], y[19000:]\n",
        "X.shape"
      ]
    },
    {
      "cell_type": "markdown",
      "metadata": {
        "id": "Q5BsMFx5m6i3"
      },
      "source": [
        "## Recap\n",
        "At first I:\n",
        " - imported the data\n",
        " - cleaned them (lower case, special characters removed)\n",
        " - removed the stopwords\n",
        " - tokenized the remaining text\n",
        "\n",
        "Then I loaded a pretrained word2vec model, taken from the library gensim and applied it to our data. We obtanied an encoding of each word in a feature vectore of dimension 100."
      ]
    },
    {
      "cell_type": "markdown",
      "metadata": {
        "id": "XSJFhdp5s40Y"
      },
      "source": [
        "# Deep Learning part\n",
        "Now I finally can train a neural network on this encoding, to classify the news in fake or reliable.\n",
        "\n",
        "I tried 3 types of neural networks:\n",
        " - MLP: fully connected NN, with ReLU, Adam, softmax. Hidden neurons? maybe 256, 256. Or 128, 128, 128.\n",
        " - 1D CNN.\n",
        " - RNN (this is more tricky)."
      ]
    },
    {
      "cell_type": "markdown",
      "metadata": {
        "id": "_F7DU6x_uyCm"
      },
      "source": [
        "# Multi Layer Perceptron - base model\n",
        "The first model I implemented is a simple Feed-Forward Neural Network, with 2 fully connected layers. The features are just the average word2vec embedding of the various articles."
      ]
    },
    {
      "cell_type": "code",
      "execution_count": null,
      "metadata": {
        "colab": {
          "base_uri": "https://localhost:8080/"
        },
        "id": "dKdYJ-8AYe7o",
        "outputId": "94b3b420-4964-4979-e983-dbfe413619cf"
      },
      "outputs": [
        {
          "name": "stdout",
          "output_type": "stream",
          "text": [
            "Model: \"sequential_2\"\n",
            "_________________________________________________________________\n",
            " Layer (type)                Output Shape              Param #   \n",
            "=================================================================\n",
            " dense_6 (Dense)             (None, 128)               12928     \n",
            "                                                                 \n",
            " dense_7 (Dense)             (None, 128)               16512     \n",
            "                                                                 \n",
            " dense_8 (Dense)             (None, 2)                 258       \n",
            "                                                                 \n",
            "=================================================================\n",
            "Total params: 29,698\n",
            "Trainable params: 29,698\n",
            "Non-trainable params: 0\n",
            "_________________________________________________________________\n"
          ]
        }
      ],
      "source": [
        "from keras.models import Sequential\n",
        "from keras.layers import Dense\n",
        "\n",
        "mlp = Sequential([\n",
        "    Dense(128, activation = 'relu', input_dim = 100),\n",
        "    Dense(128, activation = 'relu'),\n",
        "    Dense(2, activation='softmax')\n",
        "])\n",
        "\n",
        "mlp.compile(\n",
        "    optimizer = 'adam',\n",
        "    loss = 'categorical_crossentropy',\n",
        "    metrics = ['accuracy']\n",
        ")\n",
        "\n",
        "mlp.summary()"
      ]
    },
    {
      "cell_type": "code",
      "execution_count": null,
      "metadata": {
        "colab": {
          "base_uri": "https://localhost:8080/",
          "height": 358
        },
        "id": "3sO68SBYhcDc",
        "outputId": "be38348b-a65f-40b6-d1f7-61cd3d831fa2"
      },
      "outputs": [
        {
          "name": "stdout",
          "output_type": "stream",
          "text": [
            "final train accuracy: 0.9774736762046814\n",
            "final test accuracy: 0.8972222208976746\n"
          ]
        },
        {
          "data": {
            "image/png": "[encoded data removed]",
            "text/plain": [
              "<Figure size 576x360 with 1 Axes>"
            ]
          },
          "metadata": {},
          "output_type": "display_data"
        }
      ],
      "source": [
        "history = mlp.fit(X_train, y_train, epochs = 50, validation_data = (X_test, y_test), verbose = 0)\n",
        "\n",
        "pd.DataFrame(history.history).plot(figsize=(8, 5))\n",
        "plt.grid(True)\n",
        "plt.gca().set_ylim(0, 1) # set the vertical range to [0-1]\n",
        "\n",
        "print('final train accuracy: {0}\\nfinal test accuracy: {1}'.format(history.history['accuracy'][-1], history.history['val_accuracy'][-1]))\n",
        "del (mlp, history)"
      ]
    },
    {
      "cell_type": "markdown",
      "metadata": {
        "id": "WcnsehQmf74R"
      },
      "source": [
        "# CNN with word2vec\n",
        "The second model I tried is a 1D convolutional neural network. I treated each element of the embedding vector as an independent feature, and I tried to exploit the topology present in the sequence of words in a sentence with the convolutions.\n",
        "\n",
        "I am not sure that the hypothesis of independence in the features is actually the case, but empirically it seems to work well. It also makes more sense than using 2D convolutions, since in every case the topolgy in the embedding space would be much different than the one in a sentence."
      ]
    },
    {
      "cell_type": "markdown",
      "metadata": {
        "id": "oa9JX7JwagX4"
      },
      "source": [
        "## embedding layer\n",
        "As mentioned before, I found a turnaround to use the embeddings of (almost) the entire sentences, without exceeding the RAM or having to load the dataset from disk during training.\n",
        "\n",
        "I used keras Tokenizer class to **encode** each word into an integer and padding the resulting sentences with 0 to obtain sequences of the same length.\n",
        "\n",
        "Then I used `gensim` function `get_keras_embedding` to generate **embeddings** on the fly, direclty inside keras `Sequential()` model.\n",
        "\n",
        "The main problem with this was making so that the same encoding word-integer was used by keras and gensim. To do it I extracted the vocabulary of the trained gensim model, which is very big and general, and told keras Tokenizer to use it."
      ]
    },
    {
      "cell_type": "code",
      "execution_count": null,
      "metadata": {
        "colab": {
          "base_uri": "https://localhost:8080/"
        },
        "id": "_g7Mmf8h1-zs",
        "outputId": "4c8d2765-80dc-4d75-cd01-d20fb98f9f30"
      },
      "outputs": [
        {
          "data": {
            "text/plain": [
              "[('office', 0.7581614851951599),\n",
              " ('senate', 0.7204986214637756),\n",
              " ('room', 0.7149738669395447),\n",
              " ('houses', 0.6888046264648438),\n",
              " ('capitol', 0.6851760149002075),\n",
              " ('building', 0.684728741645813),\n",
              " ('home', 0.6720309257507324),\n",
              " ('clinton', 0.6707026362419128),\n",
              " ('congressional', 0.6692575812339783),\n",
              " ('mansion', 0.665092408657074)]"
            ]
          },
          "execution_count": 13,
          "metadata": {},
          "output_type": "execute_result"
        }
      ],
      "source": [
        "word2vec_model = glove_vectors\n",
        "#print(word2vec_model.vectors.shape)\n",
        "#word2vec_model = Word2Vec(df['tokens'], size=100, window=5, min_count=1, workers=4)\n",
        "#word2vec_model.wv\n",
        "\n",
        "vocabulary = {word: vector.index for word, vector in word2vec_model.vocab.items()}\n",
        "num_words = len(vocabulary)\n",
        "\n",
        "# check if it works\n",
        "word2vec_model.most_similar('house')\n",
        "#num_words"
      ]
    },
    {
      "cell_type": "code",
      "execution_count": null,
      "metadata": {
        "colab": {
          "base_uri": "https://localhost:8080/"
        },
        "id": "COio2JtckLsy",
        "outputId": "05815f05-e8ee-47ac-90e7-cafbdbdb3b31"
      },
      "outputs": [
        {
          "name": "stdout",
          "output_type": "stream",
          "text": [
            "[[166], [664]]\n",
            "166\n",
            "shape of data where the articles have more than 5000 words:  (20, 5)\n"
          ]
        }
      ],
      "source": [
        "from keras.preprocessing.text import Tokenizer\n",
        "from keras.utils import pad_sequences\n",
        "from keras.models import Sequential\n",
        "from keras.layers import Dropout, Conv1D, MaxPool1D, GlobalMaxPool1D, Input, Dense\n",
        "\n",
        "# tokenizing the text\n",
        "tk = Tokenizer(num_words=len(vocabulary))\n",
        "tk.word_index = vocabulary\n",
        "X = tk.texts_to_sequences(df.tokens.values)\n",
        "print(tk.texts_to_sequences(['house','job']))\n",
        "print(vocabulary['house'])\n",
        "\n",
        "# Adding 1 because of reserved 0 index\n",
        "vocab_size = len(tk.word_index) + 1\n",
        "max_len = 5000\n",
        "\n",
        "# padding sequences with zeroes\n",
        "X = pad_sequences(X, padding = 'post', maxlen = max_len)\n",
        "\n",
        "# note only 20 articles have more than 5000 words, so I'm truncating them at this value\n",
        "print('shape of data where the articles have more than 5000 words: ', df[df.tokens.apply(lambda x: len(x)) > 5000].shape)\n",
        "\n",
        "# train-test split\n",
        "X_train, X_test = X[:19000], X[19000:]\n",
        "del(X)\n",
        "\n",
        "y = tf.convert_to_tensor( to_categorical(df.label))\n",
        "y_train, y_test = y[:19000], y[19000:]\n",
        "del(y)"
      ]
    },
    {
      "cell_type": "markdown",
      "metadata": {
        "id": "S0bi7JEKmTvh"
      },
      "source": [
        "## Network construction"
      ]
    },
    {
      "cell_type": "code",
      "execution_count": null,
      "metadata": {
        "colab": {
          "base_uri": "https://localhost:8080/"
        },
        "id": "zmj32PDHrUqk",
        "outputId": "7fc03269-a962-475a-fcfd-167b1e4a71b7"
      },
      "outputs": [
        {
          "name": "stdout",
          "output_type": "stream",
          "text": [
            "Model: \"sequential_8\"\n",
            "_________________________________________________________________\n",
            " Layer (type)                Output Shape              Param #   \n",
            "=================================================================\n",
            " embedding_5 (Embedding)     (None, 5000, 100)         40000000  \n",
            "                                                                 \n",
            " dropout_25 (Dropout)        (None, 5000, 100)         0         \n",
            "                                                                 \n",
            " conv1d_30 (Conv1D)          (None, 5000, 32)          9632      \n",
            "                                                                 \n",
            " conv1d_31 (Conv1D)          (None, 5000, 32)          3104      \n",
            "                                                                 \n",
            " max_pooling1d_10 (MaxPoolin  (None, 2500, 32)         0         \n",
            " g1D)                                                            \n",
            "                                                                 \n",
            " dropout_26 (Dropout)        (None, 2500, 32)          0         \n",
            "                                                                 \n",
            " conv1d_32 (Conv1D)          (None, 2500, 64)          6208      \n",
            "                                                                 \n",
            " conv1d_33 (Conv1D)          (None, 2500, 64)          12352     \n",
            "                                                                 \n",
            " max_pooling1d_11 (MaxPoolin  (None, 1250, 64)         0         \n",
            " g1D)                                                            \n",
            "                                                                 \n",
            " dropout_27 (Dropout)        (None, 1250, 64)          0         \n",
            "                                                                 \n",
            " conv1d_34 (Conv1D)          (None, 1250, 128)         24704     \n",
            "                                                                 \n",
            " conv1d_35 (Conv1D)          (None, 1250, 128)         49280     \n",
            "                                                                 \n",
            " global_max_pooling1d_5 (Glo  (None, 128)              0         \n",
            " balMaxPooling1D)                                                \n",
            "                                                                 \n",
            " dropout_28 (Dropout)        (None, 128)               0         \n",
            "                                                                 \n",
            " dense_19 (Dense)            (None, 128)               16512     \n",
            "                                                                 \n",
            " dropout_29 (Dropout)        (None, 128)               0         \n",
            "                                                                 \n",
            " dense_20 (Dense)            (None, 2)                 258       \n",
            "                                                                 \n",
            "=================================================================\n",
            "Total params: 40,122,050\n",
            "Trainable params: 122,050\n"
          ]
        },
        {
          "name": "stderr",
          "output_type": "stream",
          "text": [
            "<ipython-input-51-fbf27367192a>:5: DeprecationWarning: Call to deprecated `wv` (Attribute will be removed in 4.0.0, use self instead).\n",
            "  word2vec_model.wv.get_keras_embedding(train_embeddings = False),\n"
          ]
        },
        {
          "name": "stdout",
          "output_type": "stream",
          "text": [
            "Non-trainable params: 40,000,000\n",
            "_________________________________________________________________\n"
          ]
        }
      ],
      "source": [
        "tf.random.set_seed(7)\n",
        "\n",
        "cnn = Sequential([\n",
        "    Input(shape = (5000,)),\n",
        "    word2vec_model.get_keras_embedding(train_embeddings = False),\n",
        "    Dropout(0.2),\n",
        "    Conv1D(32, 3, activation='relu', padding='same', strides=1),\n",
        "    Conv1D(32, 3, activation='relu', padding='same', strides=1),\n",
        "    MaxPool1D(),\n",
        "    Dropout(0.2),\n",
        "    Conv1D(64, 3, activation='relu', padding='same', strides=1),\n",
        "    Conv1D(64, 3, activation='relu', padding='same', strides=1),\n",
        "    MaxPool1D(),\n",
        "    Dropout(0.2),\n",
        "    Conv1D(128, 3, activation='relu', padding='same', strides=1),\n",
        "    Conv1D(128, 3, activation='relu', padding='same', strides=1),\n",
        "    GlobalMaxPool1D(),\n",
        "    Dropout(0.2),\n",
        "    Dense(128, activation = 'relu'),\n",
        "    Dropout(0.2),\n",
        "    Dense(2, activation = 'softmax')\n",
        "])\n",
        "\n",
        "cnn.compile(\n",
        "    optimizer = 'adam',\n",
        "    loss = 'categorical_crossentropy',\n",
        "    metrics = ['accuracy']\n",
        ")\n",
        "\n",
        "cnn.summary()"
      ]
    },
    {
      "cell_type": "markdown",
      "metadata": {
        "id": "5iQfKlNOmYM9"
      },
      "source": [
        "## Training"
      ]
    },
    {
      "cell_type": "code",
      "execution_count": null,
      "metadata": {
        "colab": {
          "base_uri": "https://localhost:8080/",
          "height": 1000
        },
        "id": "wMPYmjmq6obi",
        "outputId": "6ac6d502-0e37-4430-cd1a-31d9ca5de98c"
      },
      "outputs": [
        {
          "name": "stdout",
          "output_type": "stream",
          "text": [
            "Epoch 1/25\n",
            "75/75 [==============================] - ETA: 0s - loss: 0.6370 - accuracy: 0.6059\n",
            "Epoch 1: val_loss improved from inf to 0.53506, saving model to model.weights.best.hdf5\n",
            "75/75 [==============================] - 22s 287ms/step - loss: 0.6370 - accuracy: 0.6059 - val_loss: 0.5351 - val_accuracy: 0.7483\n",
            "Epoch 2/25\n",
            "75/75 [==============================] - ETA: 0s - loss: 0.3373 - accuracy: 0.8549\n",
            "Epoch 2: val_loss improved from 0.53506 to 0.20597, saving model to model.weights.best.hdf5\n",
            "75/75 [==============================] - 22s 295ms/step - loss: 0.3373 - accuracy: 0.8549 - val_loss: 0.2060 - val_accuracy: 0.9300\n",
            "Epoch 3/25\n",
            "75/75 [==============================] - ETA: 0s - loss: 0.2009 - accuracy: 0.9248\n",
            "Epoch 3: val_loss improved from 0.20597 to 0.14936, saving model to model.weights.best.hdf5\n",
            "75/75 [==============================] - 21s 283ms/step - loss: 0.2009 - accuracy: 0.9248 - val_loss: 0.1494 - val_accuracy: 0.9444\n",
            "Epoch 4/25\n",
            "75/75 [==============================] - ETA: 0s - loss: 0.1488 - accuracy: 0.9454\n",
            "Epoch 4: val_loss improved from 0.14936 to 0.13491, saving model to model.weights.best.hdf5\n",
            "75/75 [==============================] - 22s 290ms/step - loss: 0.1488 - accuracy: 0.9454 - val_loss: 0.1349 - val_accuracy: 0.9511\n",
            "Epoch 5/25\n",
            "75/75 [==============================] - ETA: 0s - loss: 0.1312 - accuracy: 0.9513\n",
            "Epoch 5: val_loss improved from 0.13491 to 0.11972, saving model to model.weights.best.hdf5\n",
            "75/75 [==============================] - 21s 284ms/step - loss: 0.1312 - accuracy: 0.9513 - val_loss: 0.1197 - val_accuracy: 0.9550\n",
            "Epoch 6/25\n",
            "75/75 [==============================] - ETA: 0s - loss: 0.1178 - accuracy: 0.9558\n",
            "Epoch 6: val_loss improved from 0.11972 to 0.11252, saving model to model.weights.best.hdf5\n",
            "75/75 [==============================] - 21s 286ms/step - loss: 0.1178 - accuracy: 0.9558 - val_loss: 0.1125 - val_accuracy: 0.9567\n",
            "Epoch 7/25\n",
            "75/75 [==============================] - ETA: 0s - loss: 0.1037 - accuracy: 0.9603\n",
            "Epoch 7: val_loss improved from 0.11252 to 0.10245, saving model to model.weights.best.hdf5\n",
            "75/75 [==============================] - 21s 284ms/step - loss: 0.1037 - accuracy: 0.9603 - val_loss: 0.1024 - val_accuracy: 0.9617\n",
            "Epoch 8/25\n",
            "75/75 [==============================] - ETA: 0s - loss: 0.0974 - accuracy: 0.9645\n",
            "Epoch 8: val_loss improved from 0.10245 to 0.09010, saving model to model.weights.best.hdf5\n",
            "75/75 [==============================] - 22s 291ms/step - loss: 0.0974 - accuracy: 0.9645 - val_loss: 0.0901 - val_accuracy: 0.9661\n",
            "Epoch 9/25\n",
            "75/75 [==============================] - ETA: 0s - loss: 0.0934 - accuracy: 0.9665\n",
            "Epoch 9: val_loss improved from 0.09010 to 0.08943, saving model to model.weights.best.hdf5\n",
            "75/75 [==============================] - 21s 282ms/step - loss: 0.0934 - accuracy: 0.9665 - val_loss: 0.0894 - val_accuracy: 0.9683\n",
            "Epoch 10/25\n",
            "75/75 [==============================] - ETA: 0s - loss: 0.0878 - accuracy: 0.9687\n",
            "Epoch 10: val_loss did not improve from 0.08943\n",
            "75/75 [==============================] - 21s 283ms/step - loss: 0.0878 - accuracy: 0.9687 - val_loss: 0.1182 - val_accuracy: 0.9522\n",
            "Epoch 11/25\n",
            "75/75 [==============================] - ETA: 0s - loss: 0.0835 - accuracy: 0.9698\n",
            "Epoch 11: val_loss improved from 0.08943 to 0.08027, saving model to model.weights.best.hdf5\n",
            "75/75 [==============================] - 21s 283ms/step - loss: 0.0835 - accuracy: 0.9698 - val_loss: 0.0803 - val_accuracy: 0.9706\n",
            "Epoch 12/25\n",
            "75/75 [==============================] - ETA: 0s - loss: 0.0760 - accuracy: 0.9725\n",
            "Epoch 12: val_loss improved from 0.08027 to 0.07847, saving model to model.weights.best.hdf5\n",
            "75/75 [==============================] - 21s 283ms/step - loss: 0.0760 - accuracy: 0.9725 - val_loss: 0.0785 - val_accuracy: 0.9689\n",
            "Epoch 13/25\n",
            "75/75 [==============================] - ETA: 0s - loss: 0.0666 - accuracy: 0.9747\n",
            "Epoch 13: val_loss improved from 0.07847 to 0.06506, saving model to model.weights.best.hdf5\n",
            "75/75 [==============================] - 21s 282ms/step - loss: 0.0666 - accuracy: 0.9747 - val_loss: 0.0651 - val_accuracy: 0.9744\n",
            "Epoch 14/25\n",
            "75/75 [==============================] - ETA: 0s - loss: 0.0631 - accuracy: 0.9772\n",
            "Epoch 14: val_loss did not improve from 0.06506\n",
            "75/75 [==============================] - 21s 284ms/step - loss: 0.0631 - accuracy: 0.9772 - val_loss: 0.0813 - val_accuracy: 0.9667\n",
            "Epoch 15/25\n",
            "75/75 [==============================] - ETA: 0s - loss: 0.0632 - accuracy: 0.9777\n",
            "Epoch 15: val_loss improved from 0.06506 to 0.06322, saving model to model.weights.best.hdf5\n",
            "75/75 [==============================] - 21s 282ms/step - loss: 0.0632 - accuracy: 0.9777 - val_loss: 0.0632 - val_accuracy: 0.9750\n",
            "Epoch 16/25\n",
            "75/75 [==============================] - ETA: 0s - loss: 0.0560 - accuracy: 0.9791\n",
            "Epoch 16: val_loss improved from 0.06322 to 0.06121, saving model to model.weights.best.hdf5\n",
            "75/75 [==============================] - 21s 282ms/step - loss: 0.0560 - accuracy: 0.9791 - val_loss: 0.0612 - val_accuracy: 0.9761\n",
            "Epoch 17/25\n",
            "75/75 [==============================] - ETA: 0s - loss: 0.0526 - accuracy: 0.9809\n",
            "Epoch 17: val_loss improved from 0.06121 to 0.05762, saving model to model.weights.best.hdf5\n",
            "75/75 [==============================] - 22s 291ms/step - loss: 0.0526 - accuracy: 0.9809 - val_loss: 0.0576 - val_accuracy: 0.9783\n",
            "Epoch 18/25\n",
            "75/75 [==============================] - ETA: 0s - loss: 0.0478 - accuracy: 0.9833\n",
            "Epoch 18: val_loss did not improve from 0.05762\n",
            "75/75 [==============================] - 21s 279ms/step - loss: 0.0478 - accuracy: 0.9833 - val_loss: 0.0689 - val_accuracy: 0.9739\n",
            "Epoch 19/25\n",
            "75/75 [==============================] - ETA: 0s - loss: 0.0501 - accuracy: 0.9813\n",
            "Epoch 19: val_loss did not improve from 0.05762\n",
            "75/75 [==============================] - 21s 277ms/step - loss: 0.0501 - accuracy: 0.9813 - val_loss: 0.0610 - val_accuracy: 0.9750\n",
            "Epoch 20/25\n",
            "75/75 [==============================] - ETA: 0s - loss: 0.0509 - accuracy: 0.9813\n",
            "Epoch 20: val_loss did not improve from 0.05762\n",
            "75/75 [==============================] - 21s 285ms/step - loss: 0.0509 - accuracy: 0.9813 - val_loss: 0.0601 - val_accuracy: 0.9756\n",
            "Epoch 21/25\n",
            "75/75 [==============================] - ETA: 0s - loss: 0.0446 - accuracy: 0.9841\n",
            "Epoch 21: val_loss improved from 0.05762 to 0.05731, saving model to model.weights.best.hdf5\n",
            "75/75 [==============================] - 21s 284ms/step - loss: 0.0446 - accuracy: 0.9841 - val_loss: 0.0573 - val_accuracy: 0.9800\n",
            "Epoch 22/25\n",
            "75/75 [==============================] - ETA: 0s - loss: 0.0430 - accuracy: 0.9852\n",
            "Epoch 22: val_loss improved from 0.05731 to 0.05002, saving model to model.weights.best.hdf5\n",
            "75/75 [==============================] - 21s 282ms/step - loss: 0.0430 - accuracy: 0.9852 - val_loss: 0.0500 - val_accuracy: 0.9800\n",
            "Epoch 23/25\n",
            "75/75 [==============================] - ETA: 0s - loss: 0.0411 - accuracy: 0.9856\n",
            "Epoch 23: val_loss did not improve from 0.05002\n",
            "75/75 [==============================] - 21s 274ms/step - loss: 0.0411 - accuracy: 0.9856 - val_loss: 0.0527 - val_accuracy: 0.9828\n",
            "Epoch 24/25\n",
            "75/75 [==============================] - ETA: 0s - loss: 0.0391 - accuracy: 0.9859\n",
            "Epoch 24: val_loss improved from 0.05002 to 0.04848, saving model to model.weights.best.hdf5\n",
            "75/75 [==============================] - 21s 279ms/step - loss: 0.0391 - accuracy: 0.9859 - val_loss: 0.0485 - val_accuracy: 0.9822\n",
            "Epoch 25/25\n",
            "75/75 [==============================] - ETA: 0s - loss: 0.0335 - accuracy: 0.9881\n",
            "Epoch 25: val_loss improved from 0.04848 to 0.04740, saving model to model.weights.best.hdf5\n",
            "75/75 [==============================] - 21s 280ms/step - loss: 0.0335 - accuracy: 0.9881 - val_loss: 0.0474 - val_accuracy: 0.9822\n",
            "final train accuracy: 0.9880526065826416\n",
            "final test accuracy: 0.9827777743339539\n"
          ]
        },
        {
          "data": {
            "image/png": "[encoded data removed]",
            "text/plain": [
              "<Figure size 576x360 with 1 Axes>"
            ]
          },
          "metadata": {},
          "output_type": "display_data"
        }
      ],
      "source": [
        "checkpointer = tf.keras.callbacks.ModelCheckpoint(filepath='model.weights.best.hdf5', verbose = 1, save_best_only=True)\n",
        "batch_size = 256 #@param {type:\"integer\"}\n",
        "epochs = 25 #@param {type:\"integer\"}\n",
        "\n",
        "tf.random.set_seed(7)\n",
        "\n",
        "history = cnn.fit(\n",
        "    X_train,\n",
        "    y_train,\n",
        "    batch_size = batch_size,\n",
        "    epochs = epochs,\n",
        "    validation_data = (X_test, y_test),\n",
        "    verbose = 1,\n",
        "    callbacks =[checkpointer]\n",
        ")\n",
        "\n",
        "pd.DataFrame(history.history).plot(figsize=(8, 5))\n",
        "plt.grid(True)\n",
        "plt.gca().set_ylim(0, 1) # set the vertical range to [0-1]\n",
        "\n",
        "print('final train accuracy: {0}\\nfinal test accuracy: {1}'.format(np.array(history.history['accuracy']).max(), np.array(history.history['val_accuracy']).max()))\n",
        "del cnn, checkpointer, history"
      ]
    },
    {
      "cell_type": "markdown",
      "metadata": {
        "id": "NbTfd4nh6lHf"
      },
      "source": [
        "# CNN with trainable embedding\n",
        "Here I tried not to use the word2vec embedding, but keras `Embedding()` layer. This means that also the feature extraction was performed, and trained, by the network itself.\n",
        "The resulting network was huge, in the number of parameters, but surprasingly fast to train (even faster than the previous case). This could be due mostly to keras underhood optimization of its layers, so that **training** this Embedding layer is way faster than **computing** gensim enbeddings on the fly.\n",
        "\n",
        "The results are pretty good, but the bigger number of parameters makes it so that there is some overfitting (totally absent before). In fact the **train accuracy** almost reaches 100% but the **test accuracy** gets stuck at 98%."
      ]
    },
    {
      "cell_type": "markdown",
      "metadata": {
        "id": "ZudO51xIkh1m"
      },
      "source": [
        "## Network construction"
      ]
    },
    {
      "cell_type": "code",
      "execution_count": null,
      "metadata": {
        "colab": {
          "base_uri": "https://localhost:8080/"
        },
        "id": "0w4k8pyn6qBk",
        "outputId": "3f3129cb-90ba-42ea-e3df-f6d2367abe0b"
      },
      "outputs": [
        {
          "name": "stdout",
          "output_type": "stream",
          "text": [
            "Model: \"sequential_9\"\n",
            "_________________________________________________________________\n",
            " Layer (type)                Output Shape              Param #   \n",
            "=================================================================\n",
            " embedding_6 (Embedding)     (None, 5000, 16)          6400016   \n",
            "                                                                 \n",
            " dropout_30 (Dropout)        (None, 5000, 16)          0         \n",
            "                                                                 \n",
            " conv1d_36 (Conv1D)          (None, 5000, 32)          1568      \n",
            "                                                                 \n",
            " conv1d_37 (Conv1D)          (None, 5000, 32)          3104      \n",
            "                                                                 \n",
            " max_pooling1d_12 (MaxPoolin  (None, 2500, 32)         0         \n",
            " g1D)                                                            \n",
            "                                                                 \n",
            " dropout_31 (Dropout)        (None, 2500, 32)          0         \n",
            "                                                                 \n",
            " conv1d_38 (Conv1D)          (None, 2500, 64)          6208      \n",
            "                                                                 \n",
            " conv1d_39 (Conv1D)          (None, 2500, 64)          12352     \n",
            "                                                                 \n",
            " max_pooling1d_13 (MaxPoolin  (None, 1250, 64)         0         \n",
            " g1D)                                                            \n",
            "                                                                 \n",
            " dropout_32 (Dropout)        (None, 1250, 64)          0         \n",
            "                                                                 \n",
            " conv1d_40 (Conv1D)          (None, 1250, 128)         24704     \n",
            "                                                                 \n",
            " conv1d_41 (Conv1D)          (None, 1250, 128)         49280     \n",
            "                                                                 \n",
            " global_max_pooling1d_6 (Glo  (None, 128)              0         \n",
            " balMaxPooling1D)                                                \n",
            "                                                                 \n",
            " dropout_33 (Dropout)        (None, 128)               0         \n",
            "                                                                 \n",
            " dense_21 (Dense)            (None, 128)               16512     \n",
            "                                                                 \n",
            " dropout_34 (Dropout)        (None, 128)               0         \n",
            "                                                                 \n",
            " dense_22 (Dense)            (None, 2)                 258       \n",
            "                                                                 \n",
            "=================================================================\n",
            "Total params: 6,514,002\n",
            "Trainable params: 6,514,002\n",
            "Non-trainable params: 0\n",
            "_________________________________________________________________\n"
          ]
        }
      ],
      "source": [
        "from keras.models import Sequential\n",
        "from keras.layers import Dropout, Conv1D, MaxPool1D, GlobalMaxPool1D, Input, Dense\n",
        "from keras.layers import Embedding\n",
        "\n",
        "tf.random.set_seed(7)\n",
        "\n",
        "cnn = Sequential([\n",
        "    Input(shape = (max_len,)),\n",
        "    Embedding(input_dim = vocab_size, output_dim = 16, input_length=max_len, trainable = True),\n",
        "    Dropout(0.3),\n",
        "    Conv1D(32, 3, activation='relu', padding='same', strides=1),\n",
        "    Conv1D(32, 3, activation='relu', padding='same', strides=1),\n",
        "    MaxPool1D(),\n",
        "    Dropout(0.2),\n",
        "    Conv1D(64, 3, activation='relu', padding='same', strides=1),\n",
        "    Conv1D(64, 3, activation='relu', padding='same', strides=1),\n",
        "    MaxPool1D(),\n",
        "    Dropout(0.2),\n",
        "    Conv1D(128, 3, activation='relu', padding='same', strides=1),\n",
        "    Conv1D(128, 3, activation='relu', padding='same', strides=1),\n",
        "    GlobalMaxPool1D(),\n",
        "    Dropout(0.2),\n",
        "    Dense(128, activation = 'relu'),\n",
        "    Dropout(0.2),\n",
        "    Dense(2, activation = 'softmax')\n",
        "])\n",
        "\n",
        "cnn.compile(\n",
        "    optimizer = 'adam',\n",
        "    loss = 'categorical_crossentropy',\n",
        "    metrics = ['accuracy']\n",
        ")\n",
        "\n",
        "cnn.summary()"
      ]
    },
    {
      "cell_type": "markdown",
      "metadata": {
        "id": "WKN3m09HkmW3"
      },
      "source": [
        "## Training"
      ]
    },
    {
      "cell_type": "code",
      "execution_count": null,
      "metadata": {
        "colab": {
          "base_uri": "https://localhost:8080/",
          "height": 1000
        },
        "id": "2LeG1fFs-v4l",
        "outputId": "6b0364a0-29ae-4151-ac09-23b6bc90ba8e"
      },
      "outputs": [
        {
          "name": "stdout",
          "output_type": "stream",
          "text": [
            "Epoch 1/15\n",
            "149/149 [==============================] - ETA: 0s - loss: 0.3846 - accuracy: 0.7929\n",
            "Epoch 1: val_loss improved from inf to 0.08378, saving model to model.weights.best.hdf5\n",
            "149/149 [==============================] - 19s 120ms/step - loss: 0.3846 - accuracy: 0.7929 - val_loss: 0.0838 - val_accuracy: 0.9728\n",
            "Epoch 2/15\n",
            "149/149 [==============================] - ETA: 0s - loss: 0.0862 - accuracy: 0.9723\n",
            "Epoch 2: val_loss improved from 0.08378 to 0.06721, saving model to model.weights.best.hdf5\n",
            "149/149 [==============================] - 18s 120ms/step - loss: 0.0862 - accuracy: 0.9723 - val_loss: 0.0672 - val_accuracy: 0.9811\n",
            "Epoch 3/15\n",
            "149/149 [==============================] - ETA: 0s - loss: 0.0354 - accuracy: 0.9886\n",
            "Epoch 3: val_loss improved from 0.06721 to 0.06464, saving model to model.weights.best.hdf5\n",
            "149/149 [==============================] - 18s 123ms/step - loss: 0.0354 - accuracy: 0.9886 - val_loss: 0.0646 - val_accuracy: 0.9811\n",
            "Epoch 4/15\n",
            "149/149 [==============================] - ETA: 0s - loss: 0.0215 - accuracy: 0.9931\n",
            "Epoch 4: val_loss improved from 0.06464 to 0.05952, saving model to model.weights.best.hdf5\n",
            "149/149 [==============================] - 18s 121ms/step - loss: 0.0215 - accuracy: 0.9931 - val_loss: 0.0595 - val_accuracy: 0.9806\n",
            "Epoch 5/15\n",
            "149/149 [==============================] - ETA: 0s - loss: 0.0117 - accuracy: 0.9966\n",
            "Epoch 5: val_loss did not improve from 0.05952\n",
            "149/149 [==============================] - 18s 118ms/step - loss: 0.0117 - accuracy: 0.9966 - val_loss: 0.1035 - val_accuracy: 0.9756\n",
            "Epoch 6/15\n",
            "149/149 [==============================] - ETA: 0s - loss: 0.0137 - accuracy: 0.9955\n",
            "Epoch 6: val_loss did not improve from 0.05952\n",
            "149/149 [==============================] - 18s 119ms/step - loss: 0.0137 - accuracy: 0.9955 - val_loss: 0.0621 - val_accuracy: 0.9844\n",
            "Epoch 7/15\n",
            "149/149 [==============================] - ETA: 0s - loss: 0.0070 - accuracy: 0.9977\n",
            "Epoch 7: val_loss did not improve from 0.05952\n",
            "149/149 [==============================] - 18s 120ms/step - loss: 0.0070 - accuracy: 0.9977 - val_loss: 0.0767 - val_accuracy: 0.9806\n",
            "Epoch 8/15\n",
            "149/149 [==============================] - ETA: 0s - loss: 0.0092 - accuracy: 0.9966\n",
            "Epoch 8: val_loss did not improve from 0.05952\n",
            "149/149 [==============================] - 18s 120ms/step - loss: 0.0092 - accuracy: 0.9966 - val_loss: 0.0789 - val_accuracy: 0.9800\n",
            "Epoch 9/15\n",
            "149/149 [==============================] - ETA: 0s - loss: 0.0051 - accuracy: 0.9982\n",
            "Epoch 9: val_loss did not improve from 0.05952\n",
            "149/149 [==============================] - 18s 119ms/step - loss: 0.0051 - accuracy: 0.9982 - val_loss: 0.1951 - val_accuracy: 0.9633\n",
            "Epoch 10/15\n",
            "149/149 [==============================] - ETA: 0s - loss: 0.0050 - accuracy: 0.9982\n",
            "Epoch 10: val_loss did not improve from 0.05952\n",
            "149/149 [==============================] - 18s 119ms/step - loss: 0.0050 - accuracy: 0.9982 - val_loss: 0.0908 - val_accuracy: 0.9839\n",
            "Epoch 11/15\n",
            "149/149 [==============================] - ETA: 0s - loss: 0.0049 - accuracy: 0.9983\n",
            "Epoch 11: val_loss did not improve from 0.05952\n",
            "149/149 [==============================] - 17s 116ms/step - loss: 0.0049 - accuracy: 0.9983 - val_loss: 0.0922 - val_accuracy: 0.9772\n",
            "Epoch 12/15\n",
            "149/149 [==============================] - ETA: 0s - loss: 0.0050 - accuracy: 0.9984\n",
            "Epoch 12: val_loss did not improve from 0.05952\n",
            "149/149 [==============================] - 18s 118ms/step - loss: 0.0050 - accuracy: 0.9984 - val_loss: 0.0935 - val_accuracy: 0.9750\n",
            "Epoch 13/15\n",
            "149/149 [==============================] - ETA: 0s - loss: 0.0037 - accuracy: 0.9987\n",
            "Epoch 13: val_loss did not improve from 0.05952\n",
            "149/149 [==============================] - 18s 118ms/step - loss: 0.0037 - accuracy: 0.9987 - val_loss: 0.1018 - val_accuracy: 0.9806\n",
            "Epoch 14/15\n",
            "149/149 [==============================] - ETA: 0s - loss: 0.0029 - accuracy: 0.9988\n",
            "Epoch 14: val_loss did not improve from 0.05952\n",
            "149/149 [==============================] - 18s 118ms/step - loss: 0.0029 - accuracy: 0.9988 - val_loss: 0.0963 - val_accuracy: 0.9817\n",
            "Epoch 15/15\n",
            "149/149 [==============================] - ETA: 0s - loss: 0.0024 - accuracy: 0.9989\n",
            "Epoch 15: val_loss did not improve from 0.05952\n",
            "149/149 [==============================] - 18s 119ms/step - loss: 0.0024 - accuracy: 0.9989 - val_loss: 0.1084 - val_accuracy: 0.9817\n",
            "final train accuracy: 0.9989473819732666\n",
            "final test accuracy: 0.9816666841506958\n"
          ]
        },
        {
          "data": {
            "image/png": "[encoded data removed]",
            "text/plain": [
              "<Figure size 576x360 with 1 Axes>"
            ]
          },
          "metadata": {},
          "output_type": "display_data"
        }
      ],
      "source": [
        "checkpointer = tf.keras.callbacks.ModelCheckpoint(filepath='model.weights.best.hdf5', verbose = 1, save_best_only=True)\n",
        "batch_size = 128 #@param {type:\"integer\"}\n",
        "epochs = 15 #@param {type:\"integer\"}\n",
        "tf.random.set_seed(7)\n",
        "\n",
        "history = cnn.fit(\n",
        "    X_train,\n",
        "    y_train,\n",
        "    batch_size = batch_size,\n",
        "    epochs = epochs,\n",
        "    validation_data = (X_test, y_test),\n",
        "    verbose = 1,\n",
        "    callbacks =[checkpointer]\n",
        ")\n",
        "\n",
        "pd.DataFrame(history.history).plot(figsize=(8, 5))\n",
        "plt.grid(True)\n",
        "plt.gca().set_ylim(0, 1) # set the vertical range to [0-1]\n",
        "\n",
        "print('final train accuracy: {0}\\nfinal test accuracy: {1}'.format(np.array(history.history['accuracy']).max(), np.array(history.history['val_accuracy']).max()))\n",
        "del cnn, checkpointer, history"
      ]
    },
    {
      "cell_type": "markdown",
      "metadata": {
        "id": "KT6jaceQf9z6"
      },
      "source": [
        "# RNN with gensim word2vec\n",
        "Next I'm trying with RNN, in particular using LSTM cells. The data preparation is the same as for CNNs, but I'm cutting sequences at 1024 words, rather than at 5000, otherwise the training is too slow."
      ]
    },
    {
      "cell_type": "code",
      "execution_count": null,
      "metadata": {
        "id": "puBJt0O4fYXk"
      },
      "outputs": [],
      "source": [
        "from keras.preprocessing.text import Tokenizer\n",
        "from keras.utils import pad_sequences\n",
        "from keras.models import Sequential\n",
        "from keras.layers import Dropout, Input, Dense, LSTM, Bidirectional\n",
        "\n",
        "# defining a common vocabulary for gensim and keras\n",
        "word2vec_model = glove_vectors\n",
        "vocabulary = {word: vector.index for word, vector in word2vec_model.vocab.items()}\n",
        "num_words = len(vocabulary)\n",
        "\n",
        "# tokenizing the text\n",
        "tk = Tokenizer(num_words=len(vocabulary))\n",
        "tk.word_index = vocabulary\n",
        "X = tk.texts_to_sequences(df.tokens.values)\n",
        "#max_len = df.tokens.apply(lambda x: len(x)).max()\n",
        "max_len = 1024\n",
        "\n",
        "# padding sequences with zeroes\n",
        "X = pad_sequences(X, padding = 'post', maxlen = max_len)\n",
        "\n",
        "# train-test split\n",
        "X_train, X_test = X[:19000], X[19000:]\n",
        "del(X)\n",
        "\n",
        "y = tf.convert_to_tensor( to_categorical(df.label))\n",
        "y_train, y_test = y[:19000], y[19000:]\n",
        "del(y)"
      ]
    },
    {
      "cell_type": "markdown",
      "metadata": {
        "id": "RrIXRkZXTX78"
      },
      "source": [
        "## Network construction"
      ]
    },
    {
      "cell_type": "code",
      "execution_count": null,
      "metadata": {
        "colab": {
          "base_uri": "https://localhost:8080/"
        },
        "id": "KW40HFQnlwef",
        "outputId": "11f6ab0c-f86f-4804-eb46-262d9e565623"
      },
      "outputs": [
        {
          "name": "stdout",
          "output_type": "stream",
          "text": [
            "Model: \"sequential_1\"\n",
            "_________________________________________________________________\n",
            " Layer (type)                Output Shape              Param #   \n",
            "=================================================================\n",
            " embedding_1 (Embedding)     (None, 1024, 100)         40000000  \n",
            "                                                                 \n",
            " bidirectional_1 (Bidirectio  (None, 1024, 256)        234496    \n",
            " nal)                                                            \n",
            "                                                                 \n",
            " bidirectional_2 (Bidirectio  (None, 128)              164352    \n",
            " nal)                                                            \n",
            "                                                                 \n",
            " dropout_2 (Dropout)         (None, 128)               0         \n",
            "                                                                 \n",
            " dense_2 (Dense)             (None, 256)               33024     \n",
            "                                                                 \n",
            " dropout_3 (Dropout)         (None, 256)               0         \n",
            "                                                                 \n",
            " dense_3 (Dense)             (None, 256)               65792     \n",
            "                                                                 \n",
            " dropout_4 (Dropout)         (None, 256)               0         \n",
            "                                                                 \n",
            " dense_4 (Dense)             (None, 2)                 514       \n",
            "                                                                 \n",
            "=================================================================\n",
            "Total params: 40,498,178\n",
            "Trainable params: 498,178\n",
            "Non-trainable params: 40,000,000\n",
            "_________________________________________________________________\n"
          ]
        }
      ],
      "source": [
        "rnn = tf.keras.Sequential([\n",
        "    Input(shape = (max_len,)),\n",
        "    word2vec_model.get_keras_embedding(),\n",
        "    Bidirectional(tf.keras.layers.LSTM(128,  return_sequences=True)),\n",
        "    Bidirectional(LSTM(64)),\n",
        "    Dropout(0.2),\n",
        "    Dense(256, activation = 'relu'),\n",
        "    Dropout(0.2),\n",
        "    Dense(256, activation = 'relu'),\n",
        "    Dropout(0.2),\n",
        "    Dense(2, activation = 'softmax')\n",
        "])\n",
        "\n",
        "rnn.compile(\n",
        "    optimizer = 'adam',\n",
        "    loss = 'categorical_crossentropy',\n",
        "    metrics = ['accuracy']\n",
        ")\n",
        "\n",
        "rnn.summary()"
      ]
    },
    {
      "cell_type": "markdown",
      "metadata": {
        "id": "KFl9ytWbTckF"
      },
      "source": [
        "## Training"
      ]
    },
    {
      "cell_type": "code",
      "execution_count": null,
      "metadata": {
        "colab": {
          "base_uri": "https://localhost:8080/",
          "height": 1000
        },
        "id": "OgC9g7Kv3RCO",
        "outputId": "08c4f17d-eeb1-4226-c771-03061afef7b6"
      },
      "outputs": [
        {
          "name": "stdout",
          "output_type": "stream",
          "text": [
            "Epoch 1/15\n",
            "75/75 [==============================] - ETA: 0s - loss: 0.3286 - accuracy: 0.8494\n",
            "Epoch 1: val_loss improved from inf to 0.19803, saving model to model.weights.best.hdf5\n",
            "75/75 [==============================] - 35s 402ms/step - loss: 0.3286 - accuracy: 0.8494 - val_loss: 0.1980 - val_accuracy: 0.9078\n",
            "Epoch 2/15\n",
            "75/75 [==============================] - ETA: 0s - loss: 0.1541 - accuracy: 0.9381\n",
            "Epoch 2: val_loss improved from 0.19803 to 0.14637, saving model to model.weights.best.hdf5\n",
            "75/75 [==============================] - 29s 387ms/step - loss: 0.1541 - accuracy: 0.9381 - val_loss: 0.1464 - val_accuracy: 0.9367\n",
            "Epoch 3/15\n",
            "75/75 [==============================] - ETA: 0s - loss: 0.1086 - accuracy: 0.9582\n",
            "Epoch 3: val_loss improved from 0.14637 to 0.13813, saving model to model.weights.best.hdf5\n",
            "75/75 [==============================] - 29s 383ms/step - loss: 0.1086 - accuracy: 0.9582 - val_loss: 0.1381 - val_accuracy: 0.9472\n",
            "Epoch 4/15\n",
            "75/75 [==============================] - ETA: 0s - loss: 0.0917 - accuracy: 0.9638\n",
            "Epoch 4: val_loss improved from 0.13813 to 0.12465, saving model to model.weights.best.hdf5\n",
            "75/75 [==============================] - 29s 385ms/step - loss: 0.0917 - accuracy: 0.9638 - val_loss: 0.1247 - val_accuracy: 0.9561\n",
            "Epoch 5/15\n",
            "75/75 [==============================] - ETA: 0s - loss: 0.0725 - accuracy: 0.9722\n",
            "Epoch 5: val_loss did not improve from 0.12465\n",
            "75/75 [==============================] - 28s 378ms/step - loss: 0.0725 - accuracy: 0.9722 - val_loss: 0.1410 - val_accuracy: 0.9517\n",
            "Epoch 6/15\n",
            "75/75 [==============================] - ETA: 0s - loss: 0.0624 - accuracy: 0.9769\n",
            "Epoch 6: val_loss improved from 0.12465 to 0.12345, saving model to model.weights.best.hdf5\n",
            "75/75 [==============================] - 29s 383ms/step - loss: 0.0624 - accuracy: 0.9769 - val_loss: 0.1235 - val_accuracy: 0.9539\n",
            "Epoch 7/15\n",
            "75/75 [==============================] - ETA: 0s - loss: 0.0485 - accuracy: 0.9816\n",
            "Epoch 7: val_loss did not improve from 0.12345\n",
            "75/75 [==============================] - 28s 378ms/step - loss: 0.0485 - accuracy: 0.9816 - val_loss: 0.1610 - val_accuracy: 0.9522\n",
            "Epoch 8/15\n",
            "75/75 [==============================] - ETA: 0s - loss: 0.0428 - accuracy: 0.9845\n",
            "Epoch 8: val_loss did not improve from 0.12345\n",
            "75/75 [==============================] - 28s 378ms/step - loss: 0.0428 - accuracy: 0.9845 - val_loss: 0.1526 - val_accuracy: 0.9567\n",
            "Epoch 9/15\n",
            "75/75 [==============================] - ETA: 0s - loss: 0.0394 - accuracy: 0.9866\n",
            "Epoch 9: val_loss did not improve from 0.12345\n",
            "75/75 [==============================] - 28s 379ms/step - loss: 0.0394 - accuracy: 0.9866 - val_loss: 0.1340 - val_accuracy: 0.9600\n",
            "Epoch 10/15\n",
            "75/75 [==============================] - ETA: 0s - loss: 0.0271 - accuracy: 0.9905\n",
            "Epoch 10: val_loss did not improve from 0.12345\n",
            "75/75 [==============================] - 28s 379ms/step - loss: 0.0271 - accuracy: 0.9905 - val_loss: 0.1302 - val_accuracy: 0.9611\n",
            "Epoch 11/15\n",
            "75/75 [==============================] - ETA: 0s - loss: 0.0184 - accuracy: 0.9936\n",
            "Epoch 11: val_loss did not improve from 0.12345\n",
            "75/75 [==============================] - 29s 380ms/step - loss: 0.0184 - accuracy: 0.9936 - val_loss: 0.1819 - val_accuracy: 0.9561\n",
            "Epoch 12/15\n",
            "75/75 [==============================] - ETA: 0s - loss: 0.0200 - accuracy: 0.9931\n",
            "Epoch 12: val_loss did not improve from 0.12345\n",
            "75/75 [==============================] - 28s 378ms/step - loss: 0.0200 - accuracy: 0.9931 - val_loss: 0.1715 - val_accuracy: 0.9528\n",
            "Epoch 13/15\n",
            "75/75 [==============================] - ETA: 0s - loss: 0.0168 - accuracy: 0.9941\n",
            "Epoch 13: val_loss did not improve from 0.12345\n",
            "75/75 [==============================] - 28s 379ms/step - loss: 0.0168 - accuracy: 0.9941 - val_loss: 0.2163 - val_accuracy: 0.9506\n",
            "Epoch 14/15\n",
            "75/75 [==============================] - ETA: 0s - loss: 0.0179 - accuracy: 0.9937\n",
            "Epoch 14: val_loss did not improve from 0.12345\n",
            "75/75 [==============================] - 31s 409ms/step - loss: 0.0179 - accuracy: 0.9937 - val_loss: 0.1680 - val_accuracy: 0.9550\n",
            "Epoch 15/15\n",
            "75/75 [==============================] - ETA: 0s - loss: 0.0115 - accuracy: 0.9961\n",
            "Epoch 15: val_loss did not improve from 0.12345\n",
            "75/75 [==============================] - 31s 414ms/step - loss: 0.0115 - accuracy: 0.9961 - val_loss: 0.1847 - val_accuracy: 0.9561\n",
            "final train accuracy: 0.9961052536964417\n",
            "final test accuracy: 0.9611111283302307\n"
          ]
        },
        {
          "data": {
            "image/png": "[encoded data removed]",
            "text/plain": [
              "<Figure size 576x360 with 1 Axes>"
            ]
          },
          "metadata": {},
          "output_type": "display_data"
        }
      ],
      "source": [
        "checkpointer = tf.keras.callbacks.ModelCheckpoint(filepath='model.weights.best.hdf5', verbose = 1, save_best_only=True)\n",
        "batch_size = 256 #@param {type:\"integer\"}\n",
        "epochs = 15 #@param {type:\"integer\"}\n",
        "\n",
        "tf.random.set_seed(7)\n",
        "\n",
        "history = rnn.fit(\n",
        "    X_train,\n",
        "    y_train,\n",
        "    batch_size = batch_size,\n",
        "    epochs = epochs,\n",
        "    validation_data = (X_test, y_test),\n",
        "    verbose = 1,\n",
        "    callbacks =[checkpointer]\n",
        ")\n",
        "\n",
        "pd.DataFrame(history.history).plot(figsize=(8, 5))\n",
        "plt.grid(True)\n",
        "plt.gca().set_ylim(0, 1) # set the vertical range to [0-1]\n",
        "\n",
        "print('final train accuracy: {0}\\nfinal test accuracy: {1}'.format(np.array(history.history['accuracy']).max(), np.array(history.history['val_accuracy']).max()))\n",
        "del rnn, checkpointer, history"
      ]
    },
    {
      "cell_type": "markdown",
      "metadata": {
        "id": "srJHrwXzU0xT"
      },
      "source": [
        "# RNN with trainable embedding"
      ]
    },
    {
      "cell_type": "code",
      "execution_count": null,
      "metadata": {
        "id": "oNxZxloDU6Ut"
      },
      "outputs": [],
      "source": [
        "from keras.preprocessing.text import Tokenizer\n",
        "from keras.utils import pad_sequences\n",
        "\n",
        "tf.random.set_seed(7)\n",
        "\n",
        "# tokenizing the text\n",
        "tokenizer = Tokenizer()\n",
        "tokenizer.fit_on_texts(df.tokens)\n",
        "X = tokenizer.texts_to_sequences(df.tokens.values)\n",
        "\n",
        "# Adding 1 because of reserved 0 index\n",
        "vocab_size = len(tokenizer.word_index) + 1\n",
        "max_len = 1000\n",
        "\n",
        "# padding sequences with zeroes\n",
        "X = pad_sequences(X, padding = 'post', maxlen = max_len)\n",
        "\n",
        "# train-test split\n",
        "X_train, X_test = X[:19000], X[19000:]\n",
        "X_train.shape\n",
        "\n",
        "y = tf.convert_to_tensor( to_categorical(df.label))\n",
        "y_train, y_test = y[:19000], y[19000:]\n",
        "del(X,y)"
      ]
    },
    {
      "cell_type": "markdown",
      "metadata": {
        "id": "sCcVWovMhrKW"
      },
      "source": [
        "## Network construction"
      ]
    },
    {
      "cell_type": "code",
      "execution_count": null,
      "metadata": {
        "colab": {
          "base_uri": "https://localhost:8080/"
        },
        "id": "Tvf3qR5Rcjpn",
        "outputId": "50ff82b8-7593-465b-dd38-e18883f4c3c2"
      },
      "outputs": [
        {
          "name": "stdout",
          "output_type": "stream",
          "text": [
            "Model: \"sequential\"\n",
            "_________________________________________________________________\n",
            " Layer (type)                Output Shape              Param #   \n",
            "=================================================================\n",
            " embedding (Embedding)       (None, 1000, 16)          3200880   \n",
            "                                                                 \n",
            " bidirectional (Bidirectiona  (None, 128)              41472     \n",
            " l)                                                              \n",
            "                                                                 \n",
            " dropout (Dropout)           (None, 128)               0         \n",
            "                                                                 \n",
            " dense (Dense)               (None, 128)               16512     \n",
            "                                                                 \n",
            " dropout_1 (Dropout)         (None, 128)               0         \n",
            "                                                                 \n",
            " dense_1 (Dense)             (None, 2)                 258       \n",
            "                                                                 \n",
            "=================================================================\n",
            "Total params: 3,259,122\n",
            "Trainable params: 3,259,122\n",
            "Non-trainable params: 0\n",
            "_________________________________________________________________\n"
          ]
        }
      ],
      "source": [
        "from keras.models import Sequential\n",
        "from keras.layers import Dropout, Input, Dense\n",
        "from keras.layers import Embedding, LSTM, Bidirectional\n",
        "\n",
        "tf.random.set_seed(7)\n",
        "\n",
        "rnn = tf.keras.Sequential([\n",
        "    Input(shape = (max_len,)),\n",
        "    Embedding(input_dim = vocab_size, output_dim = 16, input_length = max_len, trainable = True),\n",
        "    Bidirectional(LSTM(64)),\n",
        "    Dropout(0.2),\n",
        "    Dense(128, activation = 'relu'),\n",
        "    Dropout(0.2),\n",
        "    Dense(2, activation = 'softmax')\n",
        "])\n",
        "\n",
        "rnn.compile(\n",
        "    optimizer = 'adam',\n",
        "    loss = 'categorical_crossentropy',\n",
        "    metrics = ['accuracy']\n",
        ")\n",
        "\n",
        "rnn.summary()"
      ]
    },
    {
      "cell_type": "markdown",
      "metadata": {
        "id": "Z2SSxdaJhudS"
      },
      "source": [
        "## Training"
      ]
    },
    {
      "cell_type": "code",
      "execution_count": null,
      "metadata": {
        "colab": {
          "base_uri": "https://localhost:8080/",
          "height": 1000
        },
        "id": "0lKI20B0hwk9",
        "outputId": "c921b50b-86a9-4362-94dd-a96160a61225"
      },
      "outputs": [
        {
          "name": "stdout",
          "output_type": "stream",
          "text": [
            "Epoch 1/15\n",
            "149/149 [==============================] - ETA: 0s - loss: 0.2723 - accuracy: 0.8742\n",
            "Epoch 1: val_loss improved from inf to 0.11165, saving model to model.weights.best.hdf5\n",
            "149/149 [==============================] - 21s 93ms/step - loss: 0.2723 - accuracy: 0.8742 - val_loss: 0.1117 - val_accuracy: 0.9528\n",
            "Epoch 2/15\n",
            "149/149 [==============================] - ETA: 0s - loss: 0.0345 - accuracy: 0.9887\n",
            "Epoch 2: val_loss did not improve from 0.11165\n",
            "149/149 [==============================] - 13s 89ms/step - loss: 0.0345 - accuracy: 0.9887 - val_loss: 0.1119 - val_accuracy: 0.9622\n",
            "Epoch 3/15\n",
            "149/149 [==============================] - ETA: 0s - loss: 0.0060 - accuracy: 0.9981\n",
            "Epoch 3: val_loss did not improve from 0.11165\n",
            "149/149 [==============================] - 13s 89ms/step - loss: 0.0060 - accuracy: 0.9981 - val_loss: 0.1733 - val_accuracy: 0.9528\n",
            "Epoch 4/15\n",
            "149/149 [==============================] - ETA: 0s - loss: 6.7002e-04 - accuracy: 0.9998\n",
            "Epoch 4: val_loss did not improve from 0.11165\n",
            "149/149 [==============================] - 13s 89ms/step - loss: 6.7002e-04 - accuracy: 0.9998 - val_loss: 0.1735 - val_accuracy: 0.9556\n",
            "Epoch 5/15\n",
            "149/149 [==============================] - ETA: 0s - loss: 8.4666e-04 - accuracy: 0.9997\n",
            "Epoch 5: val_loss did not improve from 0.11165\n",
            "149/149 [==============================] - 13s 89ms/step - loss: 8.4666e-04 - accuracy: 0.9997 - val_loss: 0.1830 - val_accuracy: 0.9550\n",
            "Epoch 6/15\n",
            "149/149 [==============================] - ETA: 0s - loss: 1.0627e-04 - accuracy: 1.0000\n",
            "Epoch 6: val_loss did not improve from 0.11165\n",
            "149/149 [==============================] - 13s 89ms/step - loss: 1.0627e-04 - accuracy: 1.0000 - val_loss: 0.1914 - val_accuracy: 0.9583\n",
            "Epoch 7/15\n",
            "149/149 [==============================] - ETA: 0s - loss: 2.7523e-05 - accuracy: 1.0000\n",
            "Epoch 7: val_loss did not improve from 0.11165\n",
            "149/149 [==============================] - 13s 90ms/step - loss: 2.7523e-05 - accuracy: 1.0000 - val_loss: 0.2009 - val_accuracy: 0.9611\n",
            "Epoch 8/15\n",
            "149/149 [==============================] - ETA: 0s - loss: 1.3418e-05 - accuracy: 1.0000\n",
            "Epoch 8: val_loss did not improve from 0.11165\n",
            "149/149 [==============================] - 13s 89ms/step - loss: 1.3418e-05 - accuracy: 1.0000 - val_loss: 0.2051 - val_accuracy: 0.9617\n",
            "Epoch 9/15\n",
            "149/149 [==============================] - ETA: 0s - loss: 1.0377e-05 - accuracy: 1.0000\n",
            "Epoch 9: val_loss did not improve from 0.11165\n",
            "149/149 [==============================] - 13s 89ms/step - loss: 1.0377e-05 - accuracy: 1.0000 - val_loss: 0.2122 - val_accuracy: 0.9622\n",
            "Epoch 10/15\n",
            "149/149 [==============================] - ETA: 0s - loss: 6.2283e-06 - accuracy: 1.0000\n",
            "Epoch 10: val_loss did not improve from 0.11165\n",
            "149/149 [==============================] - 13s 88ms/step - loss: 6.2283e-06 - accuracy: 1.0000 - val_loss: 0.2139 - val_accuracy: 0.9617\n",
            "Epoch 11/15\n",
            "149/149 [==============================] - ETA: 0s - loss: 4.9404e-06 - accuracy: 1.0000\n",
            "Epoch 11: val_loss did not improve from 0.11165\n",
            "149/149 [==============================] - 13s 90ms/step - loss: 4.9404e-06 - accuracy: 1.0000 - val_loss: 0.2158 - val_accuracy: 0.9617\n",
            "Epoch 12/15\n",
            "149/149 [==============================] - ETA: 0s - loss: 5.4786e-06 - accuracy: 1.0000\n",
            "Epoch 12: val_loss did not improve from 0.11165\n",
            "149/149 [==============================] - 13s 90ms/step - loss: 5.4786e-06 - accuracy: 1.0000 - val_loss: 0.2186 - val_accuracy: 0.9617\n",
            "Epoch 13/15\n",
            "149/149 [==============================] - ETA: 0s - loss: 3.4965e-06 - accuracy: 1.0000\n",
            "Epoch 13: val_loss did not improve from 0.11165\n",
            "149/149 [==============================] - 13s 89ms/step - loss: 3.4965e-06 - accuracy: 1.0000 - val_loss: 0.2214 - val_accuracy: 0.9617\n",
            "Epoch 14/15\n",
            "149/149 [==============================] - ETA: 0s - loss: 3.5030e-06 - accuracy: 1.0000\n",
            "Epoch 14: val_loss did not improve from 0.11165\n",
            "149/149 [==============================] - 13s 89ms/step - loss: 3.5030e-06 - accuracy: 1.0000 - val_loss: 0.2246 - val_accuracy: 0.9622\n",
            "Epoch 15/15\n",
            "149/149 [==============================] - ETA: 0s - loss: 2.3904e-06 - accuracy: 1.0000\n",
            "Epoch 15: val_loss did not improve from 0.11165\n",
            "149/149 [==============================] - 13s 90ms/step - loss: 2.3904e-06 - accuracy: 1.0000 - val_loss: 0.2265 - val_accuracy: 0.9628\n",
            "final train accuracy: 1.0\n",
            "final test accuracy: 0.9627777934074402\n"
          ]
        },
        {
          "data": {
            "image/png": "[encoded data removed]",
            "text/plain": [
              "<Figure size 576x360 with 1 Axes>"
            ]
          },
          "metadata": {},
          "output_type": "display_data"
        }
      ],
      "source": [
        "checkpointer = tf.keras.callbacks.ModelCheckpoint(filepath='model.weights.best.hdf5', verbose = 1, save_best_only=True)\n",
        "batch_size = 128 #@param {type:\"integer\"}\n",
        "epochs = 15 #@param {type:\"integer\"}\n",
        "\n",
        "tf.random.set_seed(7)\n",
        "\n",
        "history = rnn.fit(\n",
        "    X_train,\n",
        "    y_train,\n",
        "    batch_size = batch_size,\n",
        "    epochs = epochs,\n",
        "    validation_data = (X_test, y_test),\n",
        "    verbose = 1,\n",
        "    callbacks =[checkpointer]\n",
        ")\n",
        "\n",
        "pd.DataFrame(history.history).plot(figsize=(8, 5))\n",
        "plt.grid(True)\n",
        "plt.gca().set_ylim(0, 1) # set the vertical range to [0-1]\n",
        "\n",
        "print('final train accuracy: {0}\\nfinal test accuracy: {1}'.format(np.array(history.history['accuracy']).max(), np.array(history.history['val_accuracy']).max()))\n",
        "del rnn, checkpointer, history"
      ]
    },
    {
      "cell_type": "markdown",
      "metadata": {
        "id": "cPMil5kbGtWR"
      },
      "source": [
        "# Why CNN perform better than RNN in this task?\n",
        "\n",
        "Here is a summary of the performances of the different architectures I implemented.\n",
        "\n",
        "|Model |Train Accuracy |Test Accuracy |Number of paramters|\n",
        "|------|---------------|--------------|--|\n",
        "|MLP       |0.9774 |0.8972 |29,698|\n",
        "|CNN + w2v |0.9880 |**0.9844** |122,050|\n",
        "|CNN + Emb |0.9989 |0.9816 |6,514,002|\n",
        "|RNN + w2v |0.9961 |**0.9611** |498,178|\n",
        "|RNN + Emb |1.0000 |0.9628 |3,259,122|\n",
        "\n",
        "It is clear that the CNN is best one, in terms of performance. Not only it reaches 98.5% **test accuracy**, but also it avoids incredibly well overfitting.\n",
        "\n",
        "Almost all other architectures approach 1.0 **train accuracy** but fall shorter in the other one, meaning that they are learning the noise in the train dataset. The CNN is not.\n",
        "\n",
        "Obviously when I train also the embedding I add a ton of degree of freedoms, so the model inevitably learns the noise, but the test performance does not suffer from this.\n",
        "\n",
        "### My explanation\n",
        "In my opinion, this could be due to fact that a RNN focus also on learning the structure of the text. The CNN instead focus only on recognizing the patterns of fake news.\n",
        "\n",
        "We don't care about where the fake news is in the article or how it is formulated, just that it's there. This is why convolutional filters can be so effective in identifying the fake news, while the RNNs get somewhat 'distracted' and can be more effective for other tasks. Maybe an attention mechanism could improve the RNNs, but it would start to complicate things a lot, and it is not necessary, since the CNN is working so well.\n",
        "\n"
      ]
    },
    {
      "cell_type": "markdown",
      "metadata": {
        "id": "Mt9EDiWwj-2y"
      },
      "source": [
        "# Author reliability\n",
        "I want to add a feature, that I call author reliability, and see if it improves this result, before passing to more complex models.\n",
        "\n",
        "For each author I will compute the ratio of reliable news, and I will assign to each article this value."
      ]
    },
    {
      "cell_type": "code",
      "execution_count": null,
      "metadata": {
        "colab": {
          "base_uri": "https://localhost:8080/"
        },
        "id": "YMGWcaPHkfmw",
        "outputId": "b83d01f5-c9b2-49d5-9d29-f1004064a34d"
      },
      "outputs": [
        {
          "name": "stdout",
          "output_type": "stream",
          "text": [
            "accuracy considering only an author based classification:  0.9982692307692308\n"
          ]
        }
      ],
      "source": [
        "df1 = pd.DataFrame()\n",
        "df.author.fillna('missing', inplace = True)\n",
        "df1['author_reliability'] = df.groupby('author')['label'].mean()*2 - 1\n",
        "df1['num_of_art'] = df.groupby('author')['label'].count()\n",
        "df1.sort_values('num_of_art', ascending = False).head(20)\n",
        "df2 = pd.merge(df, df1, how = 'outer', on = 'author')\n",
        "#df2[df2.author_reliability==-1]\n",
        "df2['classification'] = np.where(df2.author_reliability < 0 , 0, 1)\n",
        "inc = df2[df2['classification'] != df2['label']].shape[0]\n",
        "tot = df2.shape[0]\n",
        "print('accuracy considering only an author based classification: ',1-inc/tot)"
      ]
    },
    {
      "cell_type": "code",
      "execution_count": null,
      "metadata": {
        "id": "c6H6DHkbl2QX"
      },
      "outputs": [],
      "source": [
        "X_np = np.vstack(df.encoding.values)\n",
        "\n",
        "X_np = np.hstack((X_np[:,:], df2.author_reliability.values[np.newaxis, :].T))#, df2.num_of_art.values[np.newaxis, :].T))\n",
        "#X_np = (df2.author_reliability.values[np.newaxis, :].T)\n",
        "\n",
        "X = tf.convert_to_tensor(X_np)\n",
        "\n",
        "X_train, X_test = X[:19000], X[19000:]\n",
        "#X_train.shape"
      ]
    },
    {
      "cell_type": "code",
      "execution_count": null,
      "metadata": {
        "colab": {
          "base_uri": "https://localhost:8080/",
          "height": 1000
        },
        "id": "s62CVwkwom7Y",
        "outputId": "a620c3dc-900a-4f56-e0c9-42374907f9be"
      },
      "outputs": [
        {
          "name": "stdout",
          "output_type": "stream",
          "text": [
            "Epoch 1/30\n",
            "594/594 [==============================] - 2s 3ms/step - loss: 0.3894 - accuracy: 0.8263 - val_loss: 0.3305 - val_accuracy: 0.8589\n",
            "Epoch 2/30\n",
            "594/594 [==============================] - 2s 3ms/step - loss: 0.2995 - accuracy: 0.8735 - val_loss: 0.3113 - val_accuracy: 0.8700\n",
            "Epoch 3/30\n",
            "594/594 [==============================] - 2s 3ms/step - loss: 0.2673 - accuracy: 0.8877 - val_loss: 0.2919 - val_accuracy: 0.8722\n",
            "Epoch 4/30\n",
            "594/594 [==============================] - 2s 3ms/step - loss: 0.2460 - accuracy: 0.9003 - val_loss: 0.2846 - val_accuracy: 0.8822\n",
            "Epoch 5/30\n",
            "594/594 [==============================] - 2s 3ms/step - loss: 0.2264 - accuracy: 0.9076 - val_loss: 0.2725 - val_accuracy: 0.8794\n",
            "Epoch 6/30\n",
            "594/594 [==============================] - 2s 3ms/step - loss: 0.2122 - accuracy: 0.9153 - val_loss: 0.2753 - val_accuracy: 0.8822\n",
            "Epoch 7/30\n",
            "594/594 [==============================] - 2s 3ms/step - loss: 0.2006 - accuracy: 0.9197 - val_loss: 0.2910 - val_accuracy: 0.8833\n",
            "Epoch 8/30\n",
            "594/594 [==============================] - 2s 3ms/step - loss: 0.1888 - accuracy: 0.9268 - val_loss: 0.2759 - val_accuracy: 0.8822\n",
            "Epoch 9/30\n",
            "594/594 [==============================] - 2s 3ms/step - loss: 0.1791 - accuracy: 0.9292 - val_loss: 0.2702 - val_accuracy: 0.8883\n",
            "Epoch 10/30\n",
            "594/594 [==============================] - 2s 3ms/step - loss: 0.1723 - accuracy: 0.9323 - val_loss: 0.2807 - val_accuracy: 0.8889\n",
            "Epoch 11/30\n",
            "594/594 [==============================] - 2s 3ms/step - loss: 0.1614 - accuracy: 0.9372 - val_loss: 0.2785 - val_accuracy: 0.8939\n",
            "Epoch 12/30\n",
            "594/594 [==============================] - 2s 3ms/step - loss: 0.1557 - accuracy: 0.9398 - val_loss: 0.2778 - val_accuracy: 0.8900\n",
            "Epoch 13/30\n",
            "594/594 [==============================] - 2s 3ms/step - loss: 0.1482 - accuracy: 0.9421 - val_loss: 0.2966 - val_accuracy: 0.8856\n",
            "Epoch 14/30\n",
            "594/594 [==============================] - 2s 3ms/step - loss: 0.1440 - accuracy: 0.9446 - val_loss: 0.2801 - val_accuracy: 0.8928\n",
            "Epoch 15/30\n",
            "594/594 [==============================] - 2s 3ms/step - loss: 0.1355 - accuracy: 0.9482 - val_loss: 0.2899 - val_accuracy: 0.8872\n",
            "Epoch 16/30\n",
            "594/594 [==============================] - 2s 3ms/step - loss: 0.1342 - accuracy: 0.9475 - val_loss: 0.2887 - val_accuracy: 0.8917\n",
            "Epoch 17/30\n",
            "594/594 [==============================] - 2s 3ms/step - loss: 0.1228 - accuracy: 0.9535 - val_loss: 0.2972 - val_accuracy: 0.8939\n",
            "Epoch 18/30\n",
            "594/594 [==============================] - 2s 3ms/step - loss: 0.1222 - accuracy: 0.9532 - val_loss: 0.3054 - val_accuracy: 0.8906\n",
            "Epoch 19/30\n",
            "594/594 [==============================] - 2s 3ms/step - loss: 0.1181 - accuracy: 0.9550 - val_loss: 0.3015 - val_accuracy: 0.8889\n",
            "Epoch 20/30\n",
            "594/594 [==============================] - 2s 3ms/step - loss: 0.1108 - accuracy: 0.9593 - val_loss: 0.3217 - val_accuracy: 0.8906\n",
            "Epoch 21/30\n",
            "594/594 [==============================] - 2s 3ms/step - loss: 0.1093 - accuracy: 0.9613 - val_loss: 0.2987 - val_accuracy: 0.8922\n",
            "Epoch 22/30\n",
            "594/594 [==============================] - 2s 3ms/step - loss: 0.1028 - accuracy: 0.9626 - val_loss: 0.3006 - val_accuracy: 0.8944\n",
            "Epoch 23/30\n",
            "594/594 [==============================] - 2s 3ms/step - loss: 0.0993 - accuracy: 0.9642 - val_loss: 0.3285 - val_accuracy: 0.8872\n",
            "Epoch 24/30\n",
            "594/594 [==============================] - 2s 3ms/step - loss: 0.0972 - accuracy: 0.9636 - val_loss: 0.3159 - val_accuracy: 0.8989\n",
            "Epoch 25/30\n",
            "594/594 [==============================] - 2s 3ms/step - loss: 0.0927 - accuracy: 0.9668 - val_loss: 0.3587 - val_accuracy: 0.8906\n",
            "Epoch 26/30\n",
            "594/594 [==============================] - 2s 3ms/step - loss: 0.0905 - accuracy: 0.9669 - val_loss: 0.3118 - val_accuracy: 0.8978\n",
            "Epoch 27/30\n",
            "594/594 [==============================] - 2s 3ms/step - loss: 0.0839 - accuracy: 0.9707 - val_loss: 0.3384 - val_accuracy: 0.8967\n",
            "Epoch 28/30\n",
            "594/594 [==============================] - 2s 3ms/step - loss: 0.0820 - accuracy: 0.9714 - val_loss: 0.3394 - val_accuracy: 0.8928\n",
            "Epoch 29/30\n",
            "594/594 [==============================] - 2s 3ms/step - loss: 0.0806 - accuracy: 0.9728 - val_loss: 0.3456 - val_accuracy: 0.8894\n",
            "Epoch 30/30\n",
            "594/594 [==============================] - 2s 3ms/step - loss: 0.0743 - accuracy: 0.9740 - val_loss: 0.3456 - val_accuracy: 0.8900\n"
          ]
        },
        {
          "data": {
            "text/plain": [
              "(0.0, 1.0)"
            ]
          },
          "execution_count": 20,
          "metadata": {},
          "output_type": "execute_result"
        },
        {
          "data": {
            "image/png": "[encoded data removed]",
            "text/plain": [
              "<Figure size 576x360 with 1 Axes>"
            ]
          },
          "metadata": {},
          "output_type": "display_data"
        }
      ],
      "source": [
        "from keras.layers import Normalization, Dense, Input\n",
        "from keras.models import Sequential\n",
        "norm = Normalization()\n",
        "norm.adapt(X)\n",
        "\n",
        "mlp_with_author = Sequential([\n",
        "    Input(101),\n",
        "    norm,\n",
        "    #Dense(16, activation = 'relu'),\n",
        "    #Dropout(0.2),\n",
        "    Dense(128, activation = 'relu'),\n",
        "    #Dropout(0.2),\n",
        "    Dense(2, activation='softmax')\n",
        "])\n",
        "\n",
        "mlp_with_author.compile(\n",
        "    optimizer = 'adam',\n",
        "    loss = 'categorical_crossentropy',\n",
        "    metrics = ['accuracy']\n",
        ")\n",
        "\n",
        "#mlp_with_author.summary()\n",
        "history = mlp_with_author.fit(X_train, y_train, epochs = 30, validation_data = (X_test, y_test), verbose = 1)\n",
        "\n",
        "pd.DataFrame(history.history).plot(figsize=(8, 5))\n",
        "plt.grid(True)\n",
        "plt.gca().set_ylim(0, 1) # set the vertical range to [0-1]"
      ]
    },
    {
      "cell_type": "markdown",
      "metadata": {
        "id": "Wn9c19CTV88Y"
      },
      "source": [
        "# What remains to be done\n",
        " - analyze the items that are not correctly classified in the training set, to understand how and why they are eluding my models.\n",
        "    - Is a matter of a not so good text cleaning? (maybe it resulted in meaningless words, or useful words were deleted).\n",
        "    - Or instead the embedding and classification got biased in some way?\n",
        "    - does the cut at 5000 sentence length have an impact?\n",
        " - understand why the *author reliability* feature doesn't improve my model.\n",
        " - We could also try with an autoencoder for anomaly detection, training only on reliable news (in the real world we have tons of it). Or also we could train one on reliable and one on fake, and then make them vote.\n",
        "    - Interesting question: how would this network reconstruct a fake news as a real one?\n",
        "\n",
        "## Final remark\n",
        "What does separate a reliable news from a fake one? I tried to read a few (of both), and I could not clearly classify any of them. It is a very tricky task, even for humans! Apparently my model is doing much better than me, but it's not telling me how!"
      ]
    }
  ],
  "metadata": {
    "accelerator": "GPU",
    "colab": {
      "collapsed_sections": [
        "nk2uqffvqBEj",
        "_DLjzL7fkhy8",
        "z9mjjDvX70xk",
        "wnTgezpdpEZj",
        "G1z2ubzmWMT9",
        "WcnsehQmf74R",
        "oa9JX7JwagX4",
        "S0bi7JEKmTvh",
        "5iQfKlNOmYM9",
        "NbTfd4nh6lHf",
        "ZudO51xIkh1m",
        "WKN3m09HkmW3",
        "KT6jaceQf9z6",
        "RrIXRkZXTX78",
        "KFl9ytWbTckF",
        "srJHrwXzU0xT",
        "sCcVWovMhrKW",
        "Z2SSxdaJhudS",
        "Mt9EDiWwj-2y"
      ],
      "provenance": [],
      "include_colab_link": true
    },
    "gpuClass": "standard",
    "kernelspec": {
      "display_name": "Python 3",
      "name": "python3"
    },
    "language_info": {
      "name": "python"
    }
  },
  "nbformat": 4,
  "nbformat_minor": 0
}